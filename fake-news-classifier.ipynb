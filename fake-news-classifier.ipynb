{
 "cells": [
  {
   "cell_type": "code",
   "execution_count": 1,
   "id": "0b8b4d4e",
   "metadata": {
    "execution": {
     "iopub.execute_input": "2024-05-08T18:05:54.419094Z",
     "iopub.status.busy": "2024-05-08T18:05:54.418675Z",
     "iopub.status.idle": "2024-05-08T18:06:20.440126Z",
     "shell.execute_reply": "2024-05-08T18:06:20.438925Z"
    },
    "papermill": {
     "duration": 26.036416,
     "end_time": "2024-05-08T18:06:20.442903",
     "exception": false,
     "start_time": "2024-05-08T18:05:54.406487",
     "status": "completed"
    },
    "tags": []
   },
   "outputs": [
    {
     "name": "stdout",
     "output_type": "stream",
     "text": [
      "Found existing installation: tensorflow 2.15.0\r\n",
      "Uninstalling tensorflow-2.15.0:\r\n",
      "  Successfully uninstalled tensorflow-2.15.0\r\n",
      "Found existing installation: keras 3.2.1\r\n",
      "Uninstalling keras-3.2.1:\r\n",
      "  Successfully uninstalled keras-3.2.1\r\n"
     ]
    }
   ],
   "source": [
    "!pip uninstall tensorflow --yes\n",
    "!pip uninstall keras --yes"
   ]
  },
  {
   "cell_type": "code",
   "execution_count": 2,
   "id": "986b24f7",
   "metadata": {
    "execution": {
     "iopub.execute_input": "2024-05-08T18:06:20.460613Z",
     "iopub.status.busy": "2024-05-08T18:06:20.460221Z",
     "iopub.status.idle": "2024-05-08T18:07:22.637713Z",
     "shell.execute_reply": "2024-05-08T18:07:22.636419Z"
    },
    "papermill": {
     "duration": 62.189371,
     "end_time": "2024-05-08T18:07:22.640386",
     "exception": false,
     "start_time": "2024-05-08T18:06:20.451015",
     "status": "completed"
    },
    "tags": []
   },
   "outputs": [
    {
     "name": "stdout",
     "output_type": "stream",
     "text": [
      "Collecting tensorflow==2.8.0\r\n",
      "  Downloading tensorflow-2.8.0-cp310-cp310-manylinux2010_x86_64.whl.metadata (2.9 kB)\r\n",
      "Requirement already satisfied: absl-py>=0.4.0 in /opt/conda/lib/python3.10/site-packages (from tensorflow==2.8.0) (1.4.0)\r\n",
      "Requirement already satisfied: astunparse>=1.6.0 in /opt/conda/lib/python3.10/site-packages (from tensorflow==2.8.0) (1.6.3)\r\n",
      "Requirement already satisfied: flatbuffers>=1.12 in /opt/conda/lib/python3.10/site-packages (from tensorflow==2.8.0) (23.5.26)\r\n",
      "Requirement already satisfied: gast>=0.2.1 in /opt/conda/lib/python3.10/site-packages (from tensorflow==2.8.0) (0.5.4)\r\n",
      "Requirement already satisfied: google-pasta>=0.1.1 in /opt/conda/lib/python3.10/site-packages (from tensorflow==2.8.0) (0.2.0)\r\n",
      "Requirement already satisfied: h5py>=2.9.0 in /opt/conda/lib/python3.10/site-packages (from tensorflow==2.8.0) (3.10.0)\r\n",
      "Collecting keras-preprocessing>=1.1.1 (from tensorflow==2.8.0)\r\n",
      "  Downloading Keras_Preprocessing-1.1.2-py2.py3-none-any.whl.metadata (1.9 kB)\r\n",
      "Requirement already satisfied: libclang>=9.0.1 in /opt/conda/lib/python3.10/site-packages (from tensorflow==2.8.0) (16.0.6)\r\n",
      "Requirement already satisfied: numpy>=1.20 in /opt/conda/lib/python3.10/site-packages (from tensorflow==2.8.0) (1.26.4)\r\n",
      "Requirement already satisfied: opt-einsum>=2.3.2 in /opt/conda/lib/python3.10/site-packages (from tensorflow==2.8.0) (3.3.0)\r\n",
      "Requirement already satisfied: protobuf>=3.9.2 in /opt/conda/lib/python3.10/site-packages (from tensorflow==2.8.0) (3.20.3)\r\n",
      "Requirement already satisfied: setuptools in /opt/conda/lib/python3.10/site-packages (from tensorflow==2.8.0) (69.0.3)\r\n",
      "Requirement already satisfied: six>=1.12.0 in /opt/conda/lib/python3.10/site-packages (from tensorflow==2.8.0) (1.16.0)\r\n",
      "Requirement already satisfied: termcolor>=1.1.0 in /opt/conda/lib/python3.10/site-packages (from tensorflow==2.8.0) (2.4.0)\r\n",
      "Requirement already satisfied: typing-extensions>=3.6.6 in /opt/conda/lib/python3.10/site-packages (from tensorflow==2.8.0) (4.9.0)\r\n",
      "Requirement already satisfied: wrapt>=1.11.0 in /opt/conda/lib/python3.10/site-packages (from tensorflow==2.8.0) (1.14.1)\r\n",
      "Collecting tensorboard<2.9,>=2.8 (from tensorflow==2.8.0)\r\n",
      "  Downloading tensorboard-2.8.0-py3-none-any.whl.metadata (1.9 kB)\r\n",
      "Collecting tf-estimator-nightly==2.8.0.dev2021122109 (from tensorflow==2.8.0)\r\n",
      "  Downloading tf_estimator_nightly-2.8.0.dev2021122109-py2.py3-none-any.whl.metadata (1.2 kB)\r\n",
      "Collecting keras<2.9,>=2.8.0rc0 (from tensorflow==2.8.0)\r\n",
      "  Downloading keras-2.8.0-py2.py3-none-any.whl.metadata (1.3 kB)\r\n",
      "Requirement already satisfied: tensorflow-io-gcs-filesystem>=0.23.1 in /opt/conda/lib/python3.10/site-packages (from tensorflow==2.8.0) (0.35.0)\r\n",
      "Requirement already satisfied: grpcio<2.0,>=1.24.3 in /opt/conda/lib/python3.10/site-packages (from tensorflow==2.8.0) (1.60.0)\r\n",
      "Requirement already satisfied: wheel<1.0,>=0.23.0 in /opt/conda/lib/python3.10/site-packages (from astunparse>=1.6.0->tensorflow==2.8.0) (0.42.0)\r\n",
      "Requirement already satisfied: google-auth<3,>=1.6.3 in /opt/conda/lib/python3.10/site-packages (from tensorboard<2.9,>=2.8->tensorflow==2.8.0) (2.26.1)\r\n",
      "Collecting google-auth-oauthlib<0.5,>=0.4.1 (from tensorboard<2.9,>=2.8->tensorflow==2.8.0)\r\n",
      "  Downloading google_auth_oauthlib-0.4.6-py2.py3-none-any.whl.metadata (2.7 kB)\r\n",
      "Requirement already satisfied: markdown>=2.6.8 in /opt/conda/lib/python3.10/site-packages (from tensorboard<2.9,>=2.8->tensorflow==2.8.0) (3.5.2)\r\n",
      "Requirement already satisfied: requests<3,>=2.21.0 in /opt/conda/lib/python3.10/site-packages (from tensorboard<2.9,>=2.8->tensorflow==2.8.0) (2.31.0)\r\n",
      "Collecting tensorboard-data-server<0.7.0,>=0.6.0 (from tensorboard<2.9,>=2.8->tensorflow==2.8.0)\r\n",
      "  Downloading tensorboard_data_server-0.6.1-py3-none-manylinux2010_x86_64.whl.metadata (1.1 kB)\r\n",
      "Collecting tensorboard-plugin-wit>=1.6.0 (from tensorboard<2.9,>=2.8->tensorflow==2.8.0)\r\n",
      "  Downloading tensorboard_plugin_wit-1.8.1-py3-none-any.whl.metadata (873 bytes)\r\n",
      "Requirement already satisfied: werkzeug>=0.11.15 in /opt/conda/lib/python3.10/site-packages (from tensorboard<2.9,>=2.8->tensorflow==2.8.0) (3.0.2)\r\n",
      "Requirement already satisfied: cachetools<6.0,>=2.0.0 in /opt/conda/lib/python3.10/site-packages (from google-auth<3,>=1.6.3->tensorboard<2.9,>=2.8->tensorflow==2.8.0) (4.2.4)\r\n",
      "Requirement already satisfied: pyasn1-modules>=0.2.1 in /opt/conda/lib/python3.10/site-packages (from google-auth<3,>=1.6.3->tensorboard<2.9,>=2.8->tensorflow==2.8.0) (0.3.0)\r\n",
      "Requirement already satisfied: rsa<5,>=3.1.4 in /opt/conda/lib/python3.10/site-packages (from google-auth<3,>=1.6.3->tensorboard<2.9,>=2.8->tensorflow==2.8.0) (4.9)\r\n",
      "Requirement already satisfied: requests-oauthlib>=0.7.0 in /opt/conda/lib/python3.10/site-packages (from google-auth-oauthlib<0.5,>=0.4.1->tensorboard<2.9,>=2.8->tensorflow==2.8.0) (1.3.1)\r\n",
      "Requirement already satisfied: charset-normalizer<4,>=2 in /opt/conda/lib/python3.10/site-packages (from requests<3,>=2.21.0->tensorboard<2.9,>=2.8->tensorflow==2.8.0) (3.3.2)\r\n",
      "Requirement already satisfied: idna<4,>=2.5 in /opt/conda/lib/python3.10/site-packages (from requests<3,>=2.21.0->tensorboard<2.9,>=2.8->tensorflow==2.8.0) (3.6)\r\n",
      "Requirement already satisfied: urllib3<3,>=1.21.1 in /opt/conda/lib/python3.10/site-packages (from requests<3,>=2.21.0->tensorboard<2.9,>=2.8->tensorflow==2.8.0) (1.26.18)\r\n",
      "Requirement already satisfied: certifi>=2017.4.17 in /opt/conda/lib/python3.10/site-packages (from requests<3,>=2.21.0->tensorboard<2.9,>=2.8->tensorflow==2.8.0) (2024.2.2)\r\n",
      "Requirement already satisfied: MarkupSafe>=2.1.1 in /opt/conda/lib/python3.10/site-packages (from werkzeug>=0.11.15->tensorboard<2.9,>=2.8->tensorflow==2.8.0) (2.1.3)\r\n",
      "Requirement already satisfied: pyasn1<0.6.0,>=0.4.6 in /opt/conda/lib/python3.10/site-packages (from pyasn1-modules>=0.2.1->google-auth<3,>=1.6.3->tensorboard<2.9,>=2.8->tensorflow==2.8.0) (0.5.1)\r\n",
      "Requirement already satisfied: oauthlib>=3.0.0 in /opt/conda/lib/python3.10/site-packages (from requests-oauthlib>=0.7.0->google-auth-oauthlib<0.5,>=0.4.1->tensorboard<2.9,>=2.8->tensorflow==2.8.0) (3.2.2)\r\n",
      "Downloading tensorflow-2.8.0-cp310-cp310-manylinux2010_x86_64.whl (497.6 MB)\r\n",
      "\u001b[2K   \u001b[90m━━━━━━━━━━━━━━━━━━━━━━━━━━━━━━━━━━━━━━━━\u001b[0m \u001b[32m497.6/497.6 MB\u001b[0m \u001b[31m2.9 MB/s\u001b[0m eta \u001b[36m0:00:00\u001b[0m\r\n",
      "\u001b[?25hDownloading tf_estimator_nightly-2.8.0.dev2021122109-py2.py3-none-any.whl (462 kB)\r\n",
      "\u001b[2K   \u001b[90m━━━━━━━━━━━━━━━━━━━━━━━━━━━━━━━━━━━━━━━━\u001b[0m \u001b[32m462.5/462.5 kB\u001b[0m \u001b[31m17.6 MB/s\u001b[0m eta \u001b[36m0:00:00\u001b[0m\r\n",
      "\u001b[?25hDownloading keras-2.8.0-py2.py3-none-any.whl (1.4 MB)\r\n",
      "\u001b[2K   \u001b[90m━━━━━━━━━━━━━━━━━━━━━━━━━━━━━━━━━━━━━━━━\u001b[0m \u001b[32m1.4/1.4 MB\u001b[0m \u001b[31m53.8 MB/s\u001b[0m eta \u001b[36m0:00:00\u001b[0m\r\n",
      "\u001b[?25hDownloading Keras_Preprocessing-1.1.2-py2.py3-none-any.whl (42 kB)\r\n",
      "\u001b[2K   \u001b[90m━━━━━━━━━━━━━━━━━━━━━━━━━━━━━━━━━━━━━━━━\u001b[0m \u001b[32m42.6/42.6 kB\u001b[0m \u001b[31m2.2 MB/s\u001b[0m eta \u001b[36m0:00:00\u001b[0m\r\n",
      "\u001b[?25hDownloading tensorboard-2.8.0-py3-none-any.whl (5.8 MB)\r\n",
      "\u001b[2K   \u001b[90m━━━━━━━━━━━━━━━━━━━━━━━━━━━━━━━━━━━━━━━━\u001b[0m \u001b[32m5.8/5.8 MB\u001b[0m \u001b[31m77.7 MB/s\u001b[0m eta \u001b[36m0:00:00\u001b[0m\r\n",
      "\u001b[?25hDownloading google_auth_oauthlib-0.4.6-py2.py3-none-any.whl (18 kB)\r\n",
      "Downloading tensorboard_data_server-0.6.1-py3-none-manylinux2010_x86_64.whl (4.9 MB)\r\n",
      "\u001b[2K   \u001b[90m━━━━━━━━━━━━━━━━━━━━━━━━━━━━━━━━━━━━━━━━\u001b[0m \u001b[32m4.9/4.9 MB\u001b[0m \u001b[31m75.2 MB/s\u001b[0m eta \u001b[36m0:00:00\u001b[0m\r\n",
      "\u001b[?25hDownloading tensorboard_plugin_wit-1.8.1-py3-none-any.whl (781 kB)\r\n",
      "\u001b[2K   \u001b[90m━━━━━━━━━━━━━━━━━━━━━━━━━━━━━━━━━━━━━━━━\u001b[0m \u001b[32m781.3/781.3 kB\u001b[0m \u001b[31m31.9 MB/s\u001b[0m eta \u001b[36m0:00:00\u001b[0m\r\n",
      "\u001b[?25hInstalling collected packages: tf-estimator-nightly, tensorboard-plugin-wit, keras, tensorboard-data-server, keras-preprocessing, google-auth-oauthlib, tensorboard, tensorflow\r\n",
      "  Attempting uninstall: tensorboard-data-server\r\n",
      "    Found existing installation: tensorboard-data-server 0.7.2\r\n",
      "    Uninstalling tensorboard-data-server-0.7.2:\r\n",
      "      Successfully uninstalled tensorboard-data-server-0.7.2\r\n",
      "  Attempting uninstall: google-auth-oauthlib\r\n",
      "    Found existing installation: google-auth-oauthlib 1.2.0\r\n",
      "    Uninstalling google-auth-oauthlib-1.2.0:\r\n",
      "      Successfully uninstalled google-auth-oauthlib-1.2.0\r\n",
      "  Attempting uninstall: tensorboard\r\n",
      "    Found existing installation: tensorboard 2.15.1\r\n",
      "    Uninstalling tensorboard-2.15.1:\r\n",
      "      Successfully uninstalled tensorboard-2.15.1\r\n",
      "\u001b[31mERROR: pip's dependency resolver does not currently take into account all the packages that are installed. This behaviour is the source of the following dependency conflicts.\r\n",
      "tensorflow-decision-forests 1.8.1 requires wurlitzer, which is not installed.\r\n",
      "tensorflow-decision-forests 1.8.1 requires tensorflow~=2.15.0, but you have tensorflow 2.8.0 which is incompatible.\r\n",
      "tensorflow-serving-api 2.14.1 requires tensorflow<3,>=2.14.1, but you have tensorflow 2.8.0 which is incompatible.\r\n",
      "tensorflow-text 2.15.0 requires tensorflow<2.16,>=2.15.0; platform_machine != \"arm64\" or platform_system != \"Darwin\", but you have tensorflow 2.8.0 which is incompatible.\r\n",
      "tf-keras 2.15.1 requires tensorflow<2.16,>=2.15, but you have tensorflow 2.8.0 which is incompatible.\u001b[0m\u001b[31m\r\n",
      "\u001b[0mSuccessfully installed google-auth-oauthlib-0.4.6 keras-2.8.0 keras-preprocessing-1.1.2 tensorboard-2.8.0 tensorboard-data-server-0.6.1 tensorboard-plugin-wit-1.8.1 tensorflow-2.8.0 tf-estimator-nightly-2.8.0.dev2021122109\r\n",
      "Collecting keras==2.7.0\r\n",
      "  Downloading keras-2.7.0-py2.py3-none-any.whl.metadata (1.3 kB)\r\n",
      "Downloading keras-2.7.0-py2.py3-none-any.whl (1.3 MB)\r\n",
      "\u001b[2K   \u001b[90m━━━━━━━━━━━━━━━━━━━━━━━━━━━━━━━━━━━━━━━━\u001b[0m \u001b[32m1.3/1.3 MB\u001b[0m \u001b[31m8.6 MB/s\u001b[0m eta \u001b[36m0:00:00\u001b[0m\r\n",
      "\u001b[?25hInstalling collected packages: keras\r\n",
      "  Attempting uninstall: keras\r\n",
      "    Found existing installation: keras 2.8.0\r\n",
      "    Uninstalling keras-2.8.0:\r\n",
      "      Successfully uninstalled keras-2.8.0\r\n",
      "\u001b[31mERROR: pip's dependency resolver does not currently take into account all the packages that are installed. This behaviour is the source of the following dependency conflicts.\r\n",
      "tensorflow-decision-forests 1.8.1 requires wurlitzer, which is not installed.\r\n",
      "tensorflow 2.8.0 requires keras<2.9,>=2.8.0rc0, but you have keras 2.7.0 which is incompatible.\r\n",
      "tensorflow-decision-forests 1.8.1 requires tensorflow~=2.15.0, but you have tensorflow 2.8.0 which is incompatible.\r\n",
      "tensorflow-serving-api 2.14.1 requires tensorflow<3,>=2.14.1, but you have tensorflow 2.8.0 which is incompatible.\r\n",
      "tensorflow-text 2.15.0 requires tensorflow<2.16,>=2.15.0; platform_machine != \"arm64\" or platform_system != \"Darwin\", but you have tensorflow 2.8.0 which is incompatible.\r\n",
      "tf-keras 2.15.1 requires tensorflow<2.16,>=2.15, but you have tensorflow 2.8.0 which is incompatible.\u001b[0m\u001b[31m\r\n",
      "\u001b[0mSuccessfully installed keras-2.7.0\r\n"
     ]
    }
   ],
   "source": [
    "!pip install tensorflow==2.8.0\n",
    "!pip install keras==2.7.0"
   ]
  },
  {
   "cell_type": "code",
   "execution_count": 3,
   "id": "61f29ef5",
   "metadata": {
    "_cell_guid": "b1076dfc-b9ad-4769-8c92-a6c4dae69d19",
    "_uuid": "8f2839f25d086af736a60e9eeb907d3b93b6e0e5",
    "execution": {
     "iopub.execute_input": "2024-05-08T18:07:22.693224Z",
     "iopub.status.busy": "2024-05-08T18:07:22.692787Z",
     "iopub.status.idle": "2024-05-08T18:07:23.558563Z",
     "shell.execute_reply": "2024-05-08T18:07:23.557493Z"
    },
    "papermill": {
     "duration": 0.895179,
     "end_time": "2024-05-08T18:07:23.561089",
     "exception": false,
     "start_time": "2024-05-08T18:07:22.665910",
     "status": "completed"
    },
    "tags": []
   },
   "outputs": [
    {
     "name": "stdout",
     "output_type": "stream",
     "text": [
      "/kaggle/input/fake-news-classification/WELFake_Dataset.csv\n",
      "/kaggle/input/fake-and-real-news-dataset/True.csv\n",
      "/kaggle/input/fake-and-real-news-dataset/Fake.csv\n",
      "/kaggle/input/glove6b300dtxt/glove.6B.300d.txt\n"
     ]
    }
   ],
   "source": [
    "# This Python 3 environment comes with many helpful analytics libraries installed\n",
    "# It is defined by the kaggle/python Docker image: https://github.com/kaggle/docker-python\n",
    "# For example, here's several helpful packages to load\n",
    "\n",
    "import numpy as np # linear algebra\n",
    "import pandas as pd # data processing, CSV file I/O (e.g. pd.read_csv)\n",
    "\n",
    "# Input data files are available in the read-only \"../input/\" directory\n",
    "# For example, running this (by clicking run or pressing Shift+Enter) will list all files under the input directory\n",
    "\n",
    "import os\n",
    "for dirname, _, filenames in os.walk('/kaggle/input'):\n",
    "    for filename in filenames:\n",
    "        print(os.path.join(dirname, filename))\n",
    "\n",
    "# You can write up to 20GB to the current directory (/kaggle/working/) that gets preserved as output when you create a version using \"Save & Run All\" \n",
    "# You can also write temporary files to /kaggle/temp/, but they won't be saved outside of the current session"
   ]
  },
  {
   "cell_type": "code",
   "execution_count": 4,
   "id": "cc59db40",
   "metadata": {
    "execution": {
     "iopub.execute_input": "2024-05-08T18:07:23.612818Z",
     "iopub.status.busy": "2024-05-08T18:07:23.612330Z",
     "iopub.status.idle": "2024-05-08T18:07:28.573464Z",
     "shell.execute_reply": "2024-05-08T18:07:28.572234Z"
    },
    "papermill": {
     "duration": 4.990173,
     "end_time": "2024-05-08T18:07:28.576838",
     "exception": false,
     "start_time": "2024-05-08T18:07:23.586665",
     "status": "completed"
    },
    "tags": []
   },
   "outputs": [
    {
     "name": "stdout",
     "output_type": "stream",
     "text": [
      "/kaggle/input/fake-news-classification/WELFake_Dataset.csv\n",
      "/kaggle/input/fake-and-real-news-dataset/True.csv\n",
      "/kaggle/input/fake-and-real-news-dataset/Fake.csv\n",
      "/kaggle/input/glove6b300dtxt/glove.6B.300d.txt\n"
     ]
    },
    {
     "data": {
      "text/html": [
       "<div>\n",
       "<style scoped>\n",
       "    .dataframe tbody tr th:only-of-type {\n",
       "        vertical-align: middle;\n",
       "    }\n",
       "\n",
       "    .dataframe tbody tr th {\n",
       "        vertical-align: top;\n",
       "    }\n",
       "\n",
       "    .dataframe thead th {\n",
       "        text-align: right;\n",
       "    }\n",
       "</style>\n",
       "<table border=\"1\" class=\"dataframe\">\n",
       "  <thead>\n",
       "    <tr style=\"text-align: right;\">\n",
       "      <th></th>\n",
       "      <th>text</th>\n",
       "      <th>fake</th>\n",
       "      <th>true</th>\n",
       "    </tr>\n",
       "  </thead>\n",
       "  <tbody>\n",
       "    <tr>\n",
       "      <th>0</th>\n",
       "      <td>Donald Trump just couldn t wish all Americans ...</td>\n",
       "      <td>1</td>\n",
       "      <td>0</td>\n",
       "    </tr>\n",
       "    <tr>\n",
       "      <th>1</th>\n",
       "      <td>House Intelligence Committee Chairman Devin Nu...</td>\n",
       "      <td>1</td>\n",
       "      <td>0</td>\n",
       "    </tr>\n",
       "    <tr>\n",
       "      <th>2</th>\n",
       "      <td>On Friday, it was revealed that former Milwauk...</td>\n",
       "      <td>1</td>\n",
       "      <td>0</td>\n",
       "    </tr>\n",
       "    <tr>\n",
       "      <th>3</th>\n",
       "      <td>On Christmas day, Donald Trump announced that ...</td>\n",
       "      <td>1</td>\n",
       "      <td>0</td>\n",
       "    </tr>\n",
       "    <tr>\n",
       "      <th>4</th>\n",
       "      <td>Pope Francis used his annual Christmas Day mes...</td>\n",
       "      <td>1</td>\n",
       "      <td>0</td>\n",
       "    </tr>\n",
       "    <tr>\n",
       "      <th>...</th>\n",
       "      <td>...</td>\n",
       "      <td>...</td>\n",
       "      <td>...</td>\n",
       "    </tr>\n",
       "    <tr>\n",
       "      <th>44893</th>\n",
       "      <td>BRUSSELS (Reuters) - NATO allies on Tuesday we...</td>\n",
       "      <td>0</td>\n",
       "      <td>1</td>\n",
       "    </tr>\n",
       "    <tr>\n",
       "      <th>44894</th>\n",
       "      <td>LONDON (Reuters) - LexisNexis, a provider of l...</td>\n",
       "      <td>0</td>\n",
       "      <td>1</td>\n",
       "    </tr>\n",
       "    <tr>\n",
       "      <th>44895</th>\n",
       "      <td>MINSK (Reuters) - In the shadow of disused Sov...</td>\n",
       "      <td>0</td>\n",
       "      <td>1</td>\n",
       "    </tr>\n",
       "    <tr>\n",
       "      <th>44896</th>\n",
       "      <td>MOSCOW (Reuters) - Vatican Secretary of State ...</td>\n",
       "      <td>0</td>\n",
       "      <td>1</td>\n",
       "    </tr>\n",
       "    <tr>\n",
       "      <th>44897</th>\n",
       "      <td>JAKARTA (Reuters) - Indonesia will buy 11 Sukh...</td>\n",
       "      <td>0</td>\n",
       "      <td>1</td>\n",
       "    </tr>\n",
       "  </tbody>\n",
       "</table>\n",
       "<p>44898 rows × 3 columns</p>\n",
       "</div>"
      ],
      "text/plain": [
       "                                                    text  fake  true\n",
       "0      Donald Trump just couldn t wish all Americans ...     1     0\n",
       "1      House Intelligence Committee Chairman Devin Nu...     1     0\n",
       "2      On Friday, it was revealed that former Milwauk...     1     0\n",
       "3      On Christmas day, Donald Trump announced that ...     1     0\n",
       "4      Pope Francis used his annual Christmas Day mes...     1     0\n",
       "...                                                  ...   ...   ...\n",
       "44893  BRUSSELS (Reuters) - NATO allies on Tuesday we...     0     1\n",
       "44894  LONDON (Reuters) - LexisNexis, a provider of l...     0     1\n",
       "44895  MINSK (Reuters) - In the shadow of disused Sov...     0     1\n",
       "44896  MOSCOW (Reuters) - Vatican Secretary of State ...     0     1\n",
       "44897  JAKARTA (Reuters) - Indonesia will buy 11 Sukh...     0     1\n",
       "\n",
       "[44898 rows x 3 columns]"
      ]
     },
     "execution_count": 4,
     "metadata": {},
     "output_type": "execute_result"
    }
   ],
   "source": [
    "import pandas as pd\n",
    "import numpy as np\n",
    "import seaborn as sns\n",
    "import matplotlib.pyplot as plt\n",
    "import re\n",
    "import os\n",
    "for dirname, _, filenames in os.walk('/kaggle/input'):\n",
    "    for filename in filenames:\n",
    "        print(os.path.join(dirname, filename))\n",
    "        \n",
    "fake=pd.read_csv(\"/kaggle/input/fake-and-real-news-dataset/Fake.csv\")\n",
    "true=pd.read_csv(\"/kaggle/input/fake-and-real-news-dataset/True.csv\")\n",
    "fake['fake']=1\n",
    "fake['true']=0\n",
    "true['true']=1\n",
    "true['fake']=0\n",
    "fake.drop(columns=[\"title\",\"date\",\"subject\"],inplace=True)\n",
    "true.drop(columns=[\"title\",\"date\",\"subject\"],inplace=True)\n",
    "News=pd.concat([fake,true],ignore_index=True)\n",
    "News.info\n",
    "News\n"
   ]
  },
  {
   "cell_type": "code",
   "execution_count": 5,
   "id": "998b6b18",
   "metadata": {
    "execution": {
     "iopub.execute_input": "2024-05-08T18:07:28.642531Z",
     "iopub.status.busy": "2024-05-08T18:07:28.641663Z",
     "iopub.status.idle": "2024-05-08T18:07:30.105828Z",
     "shell.execute_reply": "2024-05-08T18:07:30.103953Z"
    },
    "papermill": {
     "duration": 1.494117,
     "end_time": "2024-05-08T18:07:30.108184",
     "exception": false,
     "start_time": "2024-05-08T18:07:28.614067",
     "status": "completed"
    },
    "tags": []
   },
   "outputs": [
    {
     "name": "stdout",
     "output_type": "stream",
     "text": [
      "[nltk_data] Downloading package wordnet to /kaggle/working/...\n",
      "Archive:  /kaggle/working/corpora/wordnet.zip\n",
      "   creating: /kaggle/working/corpora/wordnet/\n",
      "  inflating: /kaggle/working/corpora/wordnet/lexnames  \n",
      "  inflating: /kaggle/working/corpora/wordnet/data.verb  \n",
      "  inflating: /kaggle/working/corpora/wordnet/index.adv  \n",
      "  inflating: /kaggle/working/corpora/wordnet/adv.exc  \n",
      "  inflating: /kaggle/working/corpora/wordnet/index.verb  \n",
      "  inflating: /kaggle/working/corpora/wordnet/cntlist.rev  \n",
      "  inflating: /kaggle/working/corpora/wordnet/data.adj  \n",
      "  inflating: /kaggle/working/corpora/wordnet/index.adj  \n",
      "  inflating: /kaggle/working/corpora/wordnet/LICENSE  \n",
      "  inflating: /kaggle/working/corpora/wordnet/citation.bib  \n",
      "  inflating: /kaggle/working/corpora/wordnet/noun.exc  \n",
      "  inflating: /kaggle/working/corpora/wordnet/verb.exc  \n",
      "  inflating: /kaggle/working/corpora/wordnet/README  \n",
      "  inflating: /kaggle/working/corpora/wordnet/index.sense  \n",
      "  inflating: /kaggle/working/corpora/wordnet/data.noun  \n",
      "  inflating: /kaggle/working/corpora/wordnet/data.adv  \n",
      "  inflating: /kaggle/working/corpora/wordnet/index.noun  \n",
      "  inflating: /kaggle/working/corpora/wordnet/adj.exc  \n"
     ]
    }
   ],
   "source": [
    "import nltk\n",
    "import subprocess\n",
    "\n",
    "# Download and unzip wordnet\n",
    "try:\n",
    "    nltk.data.find('wordnet.zip')\n",
    "except:\n",
    "    nltk.download('wordnet', download_dir='/kaggle/working/')\n",
    "    command = \"unzip /kaggle/working/corpora/wordnet.zip -d /kaggle/working/corpora\"\n",
    "    subprocess.run(command.split())\n",
    "    nltk.data.path.append('/kaggle/working/')\n",
    "\n",
    "# Now you can import the NLTK resources as usual\n",
    "from nltk.corpus import wordnet"
   ]
  },
  {
   "cell_type": "code",
   "execution_count": 6,
   "id": "c774b8f9",
   "metadata": {
    "execution": {
     "iopub.execute_input": "2024-05-08T18:07:30.161764Z",
     "iopub.status.busy": "2024-05-08T18:07:30.161395Z",
     "iopub.status.idle": "2024-05-08T18:09:05.141694Z",
     "shell.execute_reply": "2024-05-08T18:09:05.140582Z"
    },
    "papermill": {
     "duration": 95.035276,
     "end_time": "2024-05-08T18:09:05.169844",
     "exception": false,
     "start_time": "2024-05-08T18:07:30.134568",
     "status": "completed"
    },
    "tags": []
   },
   "outputs": [
    {
     "data": {
      "text/html": [
       "<div>\n",
       "<style scoped>\n",
       "    .dataframe tbody tr th:only-of-type {\n",
       "        vertical-align: middle;\n",
       "    }\n",
       "\n",
       "    .dataframe tbody tr th {\n",
       "        vertical-align: top;\n",
       "    }\n",
       "\n",
       "    .dataframe thead th {\n",
       "        text-align: right;\n",
       "    }\n",
       "</style>\n",
       "<table border=\"1\" class=\"dataframe\">\n",
       "  <thead>\n",
       "    <tr style=\"text-align: right;\">\n",
       "      <th></th>\n",
       "      <th>text</th>\n",
       "    </tr>\n",
       "  </thead>\n",
       "  <tbody>\n",
       "    <tr>\n",
       "      <th>0</th>\n",
       "      <td>donald trump wish american happy new year leav...</td>\n",
       "    </tr>\n",
       "    <tr>\n",
       "      <th>1</th>\n",
       "      <td>house intelligence committee chairman devin nu...</td>\n",
       "    </tr>\n",
       "    <tr>\n",
       "      <th>2</th>\n",
       "      <td>friday revealed former milwaukee sheriff david...</td>\n",
       "    </tr>\n",
       "    <tr>\n",
       "      <th>3</th>\n",
       "      <td>christmas day donald trump announced would bac...</td>\n",
       "    </tr>\n",
       "    <tr>\n",
       "      <th>4</th>\n",
       "      <td>pope francis used annual christmas day message...</td>\n",
       "    </tr>\n",
       "  </tbody>\n",
       "</table>\n",
       "</div>"
      ],
      "text/plain": [
       "                                                text\n",
       "0  donald trump wish american happy new year leav...\n",
       "1  house intelligence committee chairman devin nu...\n",
       "2  friday revealed former milwaukee sheriff david...\n",
       "3  christmas day donald trump announced would bac...\n",
       "4  pope francis used annual christmas day message..."
      ]
     },
     "execution_count": 6,
     "metadata": {},
     "output_type": "execute_result"
    }
   ],
   "source": [
    "## Word Pre-Processing ##\n",
    "import re\n",
    "from nltk.corpus import stopwords\n",
    "from nltk.stem import WordNetLemmatizer\n",
    "\n",
    "def preprocess_text(text):\n",
    "    # Remove punctuation and numbers\n",
    "    text = re.sub(r'[^\\w\\s]', '', text)\n",
    "    text = re.sub(r'\\d+', '', text)\n",
    "\n",
    "    # Lowercasing\n",
    "    text = text.lower()\n",
    "\n",
    "    # Stopword removal\n",
    "    stop_words = set(stopwords.words('english'))\n",
    "    text = ' '.join([word for word in text.split() if word not in stop_words])\n",
    "\n",
    "    # Lemmatization\n",
    "    lemmatizer = WordNetLemmatizer()\n",
    "    text = ' '.join([lemmatizer.lemmatize(word) for word in text.split()])\n",
    "\n",
    "    return text\n",
    "\n",
    "# Apply preprocessing to data\n",
    "#data['text'] = data['text'].apply(preprocess_text)\n",
    "\n",
    "## Apply the written function ##\n",
    "News['text'] = News['text'].apply(preprocess_text)\n",
    "processed_list = []\n",
    "for j in News['text']:\n",
    "    process = j.replace('...','')\n",
    "    processed_list.append(process)\n",
    "    \n",
    "df_processed = pd.DataFrame(processed_list)\n",
    "df_processed.columns = ['text']\n",
    "df_processed.head(n=5)"
   ]
  },
  {
   "cell_type": "code",
   "execution_count": 7,
   "id": "c6427ee8",
   "metadata": {
    "execution": {
     "iopub.execute_input": "2024-05-08T18:09:05.224481Z",
     "iopub.status.busy": "2024-05-08T18:09:05.224043Z",
     "iopub.status.idle": "2024-05-08T18:09:05.244393Z",
     "shell.execute_reply": "2024-05-08T18:09:05.243170Z"
    },
    "papermill": {
     "duration": 0.050457,
     "end_time": "2024-05-08T18:09:05.246969",
     "exception": false,
     "start_time": "2024-05-08T18:09:05.196512",
     "status": "completed"
    },
    "tags": []
   },
   "outputs": [],
   "source": [
    "X = list(df_processed['text']);\n",
    "y_data = News[[\"fake\",\"true\"]]\n",
    "y = y_data.values"
   ]
  },
  {
   "cell_type": "code",
   "execution_count": 8,
   "id": "d39c32ae",
   "metadata": {
    "execution": {
     "iopub.execute_input": "2024-05-08T18:09:05.300227Z",
     "iopub.status.busy": "2024-05-08T18:09:05.299807Z",
     "iopub.status.idle": "2024-05-08T18:09:05.324621Z",
     "shell.execute_reply": "2024-05-08T18:09:05.323452Z"
    },
    "papermill": {
     "duration": 0.054623,
     "end_time": "2024-05-08T18:09:05.327358",
     "exception": false,
     "start_time": "2024-05-08T18:09:05.272735",
     "status": "completed"
    },
    "tags": []
   },
   "outputs": [],
   "source": [
    "from sklearn.model_selection import train_test_split\n",
    "x_train, x_test, y_train, y_test = train_test_split(X, y,\n",
    "                                                    test_size=0.15, train_size=0.85)"
   ]
  },
  {
   "cell_type": "code",
   "execution_count": 9,
   "id": "f3a55d8f",
   "metadata": {
    "execution": {
     "iopub.execute_input": "2024-05-08T18:09:05.382847Z",
     "iopub.status.busy": "2024-05-08T18:09:05.382424Z",
     "iopub.status.idle": "2024-05-08T18:09:28.548971Z",
     "shell.execute_reply": "2024-05-08T18:09:28.547654Z"
    },
    "papermill": {
     "duration": 23.197549,
     "end_time": "2024-05-08T18:09:28.551760",
     "exception": false,
     "start_time": "2024-05-08T18:09:05.354211",
     "status": "completed"
    },
    "tags": []
   },
   "outputs": [],
   "source": [
    "\n",
    "from keras.preprocessing.text import one_hot\n",
    "from keras.preprocessing.sequence import pad_sequences\n",
    "from keras.models import Sequential\n",
    "from keras.layers.core import Activation, Dropout, Dense\n",
    "from keras.layers import Flatten, LSTM\n",
    "from keras.layers import Bidirectional,GRU,concatenate,SpatialDropout1D\n",
    "from keras.layers import GlobalMaxPooling1D,GlobalAveragePooling1D,Conv1D\n",
    "from keras.models import Model\n",
    "from keras.layers.embeddings import Embedding\n",
    "from sklearn.model_selection import train_test_split\n",
    "from keras.preprocessing.text import Tokenizer\n",
    "from keras.layers import Input\n",
    "from keras.layers.merge import Concatenate\n",
    "import matplotlib.pyplot as plt\n",
    "from keras import layers\n",
    "from tensorflow.keras.optimizers import Adam,SGD,RMSprop\n",
    "######## Textual Features for Embedding ###################\n",
    "max_len = 100\n",
    "max_features = 10000\n",
    "embed_size = 300\n",
    "tokenizer = Tokenizer(num_words=max_features)\n",
    "tokenizer.fit_on_texts(list(x_train)+list(x_test))\n",
    "x_train = tokenizer.texts_to_sequences(x_train)\n",
    "x_test= tokenizer.texts_to_sequences(x_test)\n",
    "x_train = pad_sequences(x_train, padding='post', maxlen=max_len)\n",
    "x_test = pad_sequences(x_test, padding='post', maxlen=max_len)"
   ]
  },
  {
   "cell_type": "code",
   "execution_count": 10,
   "id": "0e2523b2",
   "metadata": {
    "execution": {
     "iopub.execute_input": "2024-05-08T18:09:28.606216Z",
     "iopub.status.busy": "2024-05-08T18:09:28.605396Z",
     "iopub.status.idle": "2024-05-08T18:10:17.438407Z",
     "shell.execute_reply": "2024-05-08T18:10:17.437481Z"
    },
    "papermill": {
     "duration": 48.862795,
     "end_time": "2024-05-08T18:10:17.440897",
     "exception": false,
     "start_time": "2024-05-08T18:09:28.578102",
     "status": "completed"
    },
    "tags": []
   },
   "outputs": [],
   "source": [
    "from numpy import array\n",
    "from numpy import asarray\n",
    "from numpy import zeros\n",
    "embeddings_dictionary = dict()\n",
    "glove_file = open(\"/kaggle/input/glove6b300dtxt/glove.6B.300d.txt\", encoding=\"utf8\") ## pre-trained or self trained global vectors file ##\n",
    "for line in glove_file:\n",
    "    records = line.split()\n",
    "    word = records[0]\n",
    "    vector_dimensions = asarray(records[1:], dtype='float32')\n",
    "    embeddings_dictionary[word] = vector_dimensions\n",
    "glove_file.close()\n",
    "vocab_size = len(tokenizer.word_index) + 1  ## total distinct words is the Vocabulary ##\n",
    "word_index = tokenizer.word_index\n",
    "num_words = min(max_features,len(word_index)+1)\n",
    "embedding_matrix = zeros((num_words, embed_size)) ## has to be similar to glove dimension ##\n",
    "for word, index in tokenizer.word_index.items():\n",
    "    if index >= max_features:\n",
    "        continue\n",
    "    embedding_vector = embeddings_dictionary.get(word)\n",
    "    if embedding_vector is not None:\n",
    "        embedding_matrix[index] = embedding_vector"
   ]
  },
  {
   "cell_type": "code",
   "execution_count": 11,
   "id": "d4468961",
   "metadata": {
    "execution": {
     "iopub.execute_input": "2024-05-08T18:10:17.494845Z",
     "iopub.status.busy": "2024-05-08T18:10:17.494235Z",
     "iopub.status.idle": "2024-05-08T18:10:17.940566Z",
     "shell.execute_reply": "2024-05-08T18:10:17.939333Z"
    },
    "papermill": {
     "duration": 0.477917,
     "end_time": "2024-05-08T18:10:17.944777",
     "exception": false,
     "start_time": "2024-05-08T18:10:17.466860",
     "status": "completed"
    },
    "tags": []
   },
   "outputs": [
    {
     "name": "stdout",
     "output_type": "stream",
     "text": [
      "Model: \"model\"\n",
      "_________________________________________________________________\n",
      " Layer (type)                Output Shape              Param #   \n",
      "=================================================================\n",
      " input_1 (InputLayer)        [(None, 100)]             0         \n",
      "                                                                 \n",
      " embedding (Embedding)       (None, 100, 300)          3000000   \n",
      "                                                                 \n",
      " spatial_dropout1d (SpatialD  (None, 100, 300)         0         \n",
      " ropout1D)                                                       \n",
      "                                                                 \n",
      " conv1d (Conv1D)             (None, 98, 64)            57664     \n",
      "                                                                 \n",
      " bidirectional (Bidirectiona  (None, 98, 256)          197632    \n",
      " l)                                                              \n",
      "                                                                 \n",
      " global_average_pooling1d (G  (None, 256)              0         \n",
      " lobalAveragePooling1D)                                          \n",
      "                                                                 \n",
      " dense (Dense)               (None, 128)               32896     \n",
      "                                                                 \n",
      " batch_normalization (BatchN  (None, 128)              512       \n",
      " ormalization)                                                   \n",
      "                                                                 \n",
      " activation (Activation)     (None, 128)               0         \n",
      "                                                                 \n",
      " dropout (Dropout)           (None, 128)               0         \n",
      "                                                                 \n",
      " dense_1 (Dense)             (None, 2)                 258       \n",
      "                                                                 \n",
      "=================================================================\n",
      "Total params: 3,288,962\n",
      "Trainable params: 288,706\n",
      "Non-trainable params: 3,000,256\n",
      "_________________________________________________________________\n",
      "None\n"
     ]
    },
    {
     "name": "stderr",
     "output_type": "stream",
     "text": [
      "/opt/conda/lib/python3.10/site-packages/keras/optimizer_v2/rmsprop.py:130: UserWarning: The `lr` argument is deprecated, use `learning_rate` instead.\n",
      "  super(RMSprop, self).__init__(name, **kwargs)\n"
     ]
    }
   ],
   "source": [
    "from tensorflow.keras.layers import BatchNormalization\n",
    "\n",
    "sequence_input = Input(shape=(max_len, ))\n",
    "x = Embedding(max_features, embed_size, weights=[embedding_matrix], trainable=False)(sequence_input)\n",
    "x = SpatialDropout1D(0.2)(x)\n",
    "x = Conv1D(64, kernel_size=3, padding=\"valid\", kernel_initializer=\"glorot_uniform\")(x)\n",
    "x = Bidirectional(LSTM(128, return_sequences=True, dropout=0.1, recurrent_dropout=0.1))(x)\n",
    "avg_pool = GlobalAveragePooling1D()(x)\n",
    "x = Dense(128)(avg_pool)  # Remove activation\n",
    "x = BatchNormalization()(x)  # Add BatchNormalization\n",
    "x = Activation('relu')(x)  # Add activation after BatchNormalization\n",
    "x = Dropout(0.1)(x)\n",
    "preds = Dense(2, activation=\"sigmoid\")(x)\n",
    "model = Model(sequence_input, preds)\n",
    "model.compile(loss='binary_crossentropy', optimizer=RMSprop(lr=1e-3), metrics=['accuracy'])\n",
    "print(model.summary())"
   ]
  },
  {
   "cell_type": "code",
   "execution_count": 12,
   "id": "d2586014",
   "metadata": {
    "execution": {
     "iopub.execute_input": "2024-05-08T18:10:17.999207Z",
     "iopub.status.busy": "2024-05-08T18:10:17.998756Z",
     "iopub.status.idle": "2024-05-08T18:23:50.572151Z",
     "shell.execute_reply": "2024-05-08T18:23:50.571207Z"
    },
    "papermill": {
     "duration": 812.603718,
     "end_time": "2024-05-08T18:23:50.574862",
     "exception": false,
     "start_time": "2024-05-08T18:10:17.971144",
     "status": "completed"
    },
    "tags": []
   },
   "outputs": [
    {
     "name": "stdout",
     "output_type": "stream",
     "text": [
      "Epoch 1/5\n",
      "239/239 [==============================] - 165s 662ms/step - loss: 0.2206 - accuracy: 0.9115 - val_loss: 0.3894 - val_accuracy: 0.8204\n",
      "Epoch 2/5\n",
      "239/239 [==============================] - 161s 672ms/step - loss: 0.1168 - accuracy: 0.9551 - val_loss: 0.1642 - val_accuracy: 0.9350\n",
      "Epoch 3/5\n",
      "239/239 [==============================] - 162s 679ms/step - loss: 0.0916 - accuracy: 0.9650 - val_loss: 0.0916 - val_accuracy: 0.9649\n",
      "Epoch 4/5\n",
      "239/239 [==============================] - 162s 680ms/step - loss: 0.0770 - accuracy: 0.9715 - val_loss: 0.0799 - val_accuracy: 0.9701\n",
      "Epoch 5/5\n",
      "239/239 [==============================] - 162s 678ms/step - loss: 0.0676 - accuracy: 0.9761 - val_loss: 0.1148 - val_accuracy: 0.9555\n"
     ]
    }
   ],
   "source": [
    "history = model.fit(x_train, y_train, batch_size=128, epochs=5,\n",
    "                    verbose=1, validation_split=0.2)\n",
    "model.save_weights(\"./DLPProject.h5\")"
   ]
  },
  {
   "cell_type": "code",
   "execution_count": 13,
   "id": "904de092",
   "metadata": {
    "execution": {
     "iopub.execute_input": "2024-05-08T18:23:50.848342Z",
     "iopub.status.busy": "2024-05-08T18:23:50.847824Z",
     "iopub.status.idle": "2024-05-08T18:23:50.906944Z",
     "shell.execute_reply": "2024-05-08T18:23:50.905939Z"
    },
    "papermill": {
     "duration": 0.198755,
     "end_time": "2024-05-08T18:23:50.909521",
     "exception": false,
     "start_time": "2024-05-08T18:23:50.710766",
     "status": "completed"
    },
    "tags": []
   },
   "outputs": [],
   "source": [
    "model.save(\"model.h5\")\n"
   ]
  },
  {
   "cell_type": "code",
   "execution_count": 14,
   "id": "99f638ea",
   "metadata": {
    "execution": {
     "iopub.execute_input": "2024-05-08T18:23:51.190627Z",
     "iopub.status.busy": "2024-05-08T18:23:51.190219Z",
     "iopub.status.idle": "2024-05-08T18:24:01.471499Z",
     "shell.execute_reply": "2024-05-08T18:24:01.470311Z"
    },
    "papermill": {
     "duration": 10.425106,
     "end_time": "2024-05-08T18:24:01.474154",
     "exception": false,
     "start_time": "2024-05-08T18:23:51.049048",
     "status": "completed"
    },
    "tags": []
   },
   "outputs": [
    {
     "name": "stdout",
     "output_type": "stream",
     "text": [
      "211/211 [==============================] - 9s 41ms/step - loss: 0.1197 - accuracy: 0.9566\n"
     ]
    }
   ],
   "source": [
    "score = model.evaluate(x_test, y_test, verbose=1)"
   ]
  },
  {
   "cell_type": "code",
   "execution_count": 15,
   "id": "b6f8fbf0",
   "metadata": {
    "execution": {
     "iopub.execute_input": "2024-05-08T18:24:01.779538Z",
     "iopub.status.busy": "2024-05-08T18:24:01.779114Z",
     "iopub.status.idle": "2024-05-08T18:24:02.150140Z",
     "shell.execute_reply": "2024-05-08T18:24:02.149272Z"
    },
    "papermill": {
     "duration": 0.525005,
     "end_time": "2024-05-08T18:24:02.152229",
     "exception": false,
     "start_time": "2024-05-08T18:24:01.627224",
     "status": "completed"
    },
    "tags": []
   },
   "outputs": [
    {
     "data": {
      "image/png": "[encoded data removed]",
      "text/plain": [
       "<Figure size 640x480 with 1 Axes>"
      ]
     },
     "metadata": {},
     "output_type": "display_data"
    }
   ],
   "source": [
    "plt.plot(history.history['accuracy'])\n",
    "plt.plot(history.history['val_accuracy'])\n",
    "plt.title('model accuracy')\n",
    "plt.ylabel('accuracy')\n",
    "plt.xlabel('epoch')\n",
    "plt.legend(['train','test'], loc='upper left')\n",
    "plt.show()"
   ]
  },
  {
   "cell_type": "code",
   "execution_count": 16,
   "id": "8f035408",
   "metadata": {
    "execution": {
     "iopub.execute_input": "2024-05-08T18:24:02.456744Z",
     "iopub.status.busy": "2024-05-08T18:24:02.456258Z",
     "iopub.status.idle": "2024-05-08T18:24:02.779851Z",
     "shell.execute_reply": "2024-05-08T18:24:02.778707Z"
    },
    "papermill": {
     "duration": 0.47846,
     "end_time": "2024-05-08T18:24:02.782387",
     "exception": false,
     "start_time": "2024-05-08T18:24:02.303927",
     "status": "completed"
    },
    "tags": []
   },
   "outputs": [
    {
     "data": {
      "image/png": "[encoded data removed]",
      "text/plain": [
       "<Figure size 640x480 with 1 Axes>"
      ]
     },
     "metadata": {},
     "output_type": "display_data"
    }
   ],
   "source": [
    "plt.plot(history.history['loss'])\n",
    "plt.plot(history.history['val_loss'])\n",
    "plt.title('model loss')\n",
    "plt.ylabel('loss')\n",
    "plt.xlabel('epoch')\n",
    "plt.legend(['train','test'], loc='upper left')\n",
    "plt.show()"
   ]
  },
  {
   "cell_type": "code",
   "execution_count": 17,
   "id": "ef6b2cc5",
   "metadata": {
    "execution": {
     "iopub.execute_input": "2024-05-08T18:24:03.084337Z",
     "iopub.status.busy": "2024-05-08T18:24:03.083152Z",
     "iopub.status.idle": "2024-05-08T18:24:03.091384Z",
     "shell.execute_reply": "2024-05-08T18:24:03.090485Z"
    },
    "papermill": {
     "duration": 0.161287,
     "end_time": "2024-05-08T18:24:03.093403",
     "exception": false,
     "start_time": "2024-05-08T18:24:02.932116",
     "status": "completed"
    },
    "tags": []
   },
   "outputs": [],
   "source": [
    "import re\n",
    "from nltk.corpus import stopwords\n",
    "from nltk.stem import WordNetLemmatizer\n",
    "\n",
    "def preprocess_text_test(text):\n",
    "    # Ensure text is a string\n",
    "    text = str(text)\n",
    "    \n",
    "    # Remove punctuation and numbers\n",
    "    text = re.sub(r'[^\\w\\s]', '', text)\n",
    "    text = re.sub(r'\\d+', '', text)\n",
    "\n",
    "    # Lowercasing\n",
    "    text = text.lower()\n",
    "\n",
    "    # Stopword removal\n",
    "    stop_words = set(stopwords.words('english'))\n",
    "    text = ' '.join([word for word in text.split() if word not in stop_words])\n",
    "\n",
    "    # Lemmatization\n",
    "    lemmatizer = WordNetLemmatizer()\n",
    "    text = ' '.join([lemmatizer.lemmatize(word) for word in text.split()])\n",
    "\n",
    "    return text"
   ]
  },
  {
   "cell_type": "code",
   "execution_count": 18,
   "id": "1a5fb39b",
   "metadata": {
    "execution": {
     "iopub.execute_input": "2024-05-08T18:24:03.394099Z",
     "iopub.status.busy": "2024-05-08T18:24:03.393367Z",
     "iopub.status.idle": "2024-05-08T18:28:16.424405Z",
     "shell.execute_reply": "2024-05-08T18:28:16.423027Z"
    },
    "papermill": {
     "duration": 253.183691,
     "end_time": "2024-05-08T18:28:16.427632",
     "exception": false,
     "start_time": "2024-05-08T18:24:03.243941",
     "status": "completed"
    },
    "tags": []
   },
   "outputs": [],
   "source": [
    "import pandas as pd\n",
    "from tensorflow.keras.preprocessing.text import Tokenizer\n",
    "from tensorflow.keras.preprocessing.sequence import pad_sequences\n",
    "\n",
    "# Load the dataset\n",
    "new_data = pd.read_csv('//kaggle/input/fake-news-classification/WELFake_Dataset.csv')\n",
    "\n",
    "# Assuming 'text' column holds the text and 'label' is the target\n",
    "texts = new_data['text'].apply(preprocess_text_test)  # Use the same preprocessing function you used in training\n",
    "labels = new_data['label']\n",
    "\n",
    "# Additional cleaning specific to your dataset\n",
    "#new_data['text'] = new_data['text'].replace(r'\\.\\.\\.', '', regex=True)\n",
    "max_len = 100\n",
    "max_features = 10000\n",
    "embed_size = 300\n",
    "# Tokenize text\n",
    "tokenizer = Tokenizer(num_words=max_features)\n",
    "tokenizer.fit_on_texts(texts)\n",
    "sequences = tokenizer.texts_to_sequences(texts)\n",
    "\n",
    "# Pad sequences\n",
    "x_test = pad_sequences(sequences, maxlen=max_len)\n",
    "\n",
    "# Convert labels to numpy array\n",
    "import numpy as np\n",
    "y_test = np.array(labels)"
   ]
  },
  {
   "cell_type": "code",
   "execution_count": 19,
   "id": "bfa025fb",
   "metadata": {
    "execution": {
     "iopub.execute_input": "2024-05-08T18:28:16.734445Z",
     "iopub.status.busy": "2024-05-08T18:28:16.733614Z",
     "iopub.status.idle": "2024-05-08T18:28:17.179832Z",
     "shell.execute_reply": "2024-05-08T18:28:17.178780Z"
    },
    "papermill": {
     "duration": 0.600353,
     "end_time": "2024-05-08T18:28:17.182375",
     "exception": false,
     "start_time": "2024-05-08T18:28:16.582022",
     "status": "completed"
    },
    "tags": []
   },
   "outputs": [],
   "source": [
    "from tensorflow.keras.models import load_model\n",
    "\n",
    "# Load the model\n",
    "model = load_model('model.h5')"
   ]
  },
  {
   "cell_type": "code",
   "execution_count": 20,
   "id": "5dcd4d80",
   "metadata": {
    "execution": {
     "iopub.execute_input": "2024-05-08T18:28:17.489296Z",
     "iopub.status.busy": "2024-05-08T18:28:17.488543Z",
     "iopub.status.idle": "2024-05-08T18:29:52.689721Z",
     "shell.execute_reply": "2024-05-08T18:29:52.688322Z"
    },
    "papermill": {
     "duration": 95.358494,
     "end_time": "2024-05-08T18:29:52.692382",
     "exception": false,
     "start_time": "2024-05-08T18:28:17.333888",
     "status": "completed"
    },
    "tags": []
   },
   "outputs": [
    {
     "name": "stdout",
     "output_type": "stream",
     "text": [
      "2255/2255 [==============================] - 95s 42ms/step - loss: 2.0403 - accuracy: 0.4673\n",
      "Test Loss: 2.04028058052063, Test Accuracy: 0.46732470393180847\n"
     ]
    }
   ],
   "source": [
    "from tensorflow.keras.utils import to_categorical\n",
    "\n",
    "# Convert labels to one-hot encoding\n",
    "y_test_one_hot = to_categorical(y_test, num_classes=2)\n",
    "\n",
    "loss, accuracy = model.evaluate(x_test, y_test_one_hot)\n",
    "print(f\"Test Loss: {loss}, Test Accuracy: {accuracy}\")"
   ]
  }
 ],
 "metadata": {
  "kaggle": {
   "accelerator": "none",
   "dataSources": [
    {
     "datasetId": 5504,
     "sourceId": 8240,
     "sourceType": "datasetVersion"
    },
    {
     "datasetId": 4831777,
     "sourceId": 8165591,
     "sourceType": "datasetVersion"
    },
    {
     "datasetId": 2093157,
     "sourceId": 6641062,
     "sourceType": "datasetVersion"
    }
   ],
   "dockerImageVersionId": 30698,
   "isGpuEnabled": false,
   "isInternetEnabled": true,
   "language": "python",
   "sourceType": "notebook"
  },
  "kernelspec": {
   "display_name": "Python 3",
   "language": "python",
   "name": "python3"
  },
  "language_info": {
   "codemirror_mode": {
    "name": "ipython",
    "version": 3
   },
   "file_extension": ".py",
   "mimetype": "text/x-python",
   "name": "python",
   "nbconvert_exporter": "python",
   "pygments_lexer": "ipython3",
   "version": "3.10.13"
  },
  "papermill": {
   "default_parameters": {},
   "duration": 1445.183279,
   "end_time": "2024-05-08T18:29:56.452140",
   "environment_variables": {},
   "exception": null,
   "input_path": "__notebook__.ipynb",
   "output_path": "__notebook__.ipynb",
   "parameters": {},
   "start_time": "2024-05-08T18:05:51.268861",
   "version": "2.5.0"
  }
 },
 "nbformat": 4,
 "nbformat_minor": 5
}

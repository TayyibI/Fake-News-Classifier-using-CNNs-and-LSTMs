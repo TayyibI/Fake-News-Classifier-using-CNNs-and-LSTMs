{
 "cells": [
  {
   "cell_type": "code",
   "execution_count": 1,
   "id": "0d88f011",
   "metadata": {
    "execution": {
     "iopub.execute_input": "2024-05-08T19:07:21.468178Z",
     "iopub.status.busy": "2024-05-08T19:07:21.467795Z",
     "iopub.status.idle": "2024-05-08T19:07:48.368837Z",
     "shell.execute_reply": "2024-05-08T19:07:48.367624Z"
    },
    "papermill": {
     "duration": 26.916394,
     "end_time": "2024-05-08T19:07:48.372010",
     "exception": false,
     "start_time": "2024-05-08T19:07:21.455616",
     "status": "completed"
    },
    "tags": []
   },
   "outputs": [
    {
     "name": "stdout",
     "output_type": "stream",
     "text": [
      "Found existing installation: tensorflow 2.15.0\r\n",
      "Uninstalling tensorflow-2.15.0:\r\n",
      "  Successfully uninstalled tensorflow-2.15.0\r\n",
      "Found existing installation: keras 3.2.1\r\n",
      "Uninstalling keras-3.2.1:\r\n",
      "  Successfully uninstalled keras-3.2.1\r\n"
     ]
    }
   ],
   "source": [
    "!pip uninstall tensorflow --yes\n",
    "!pip uninstall keras --yes"
   ]
  },
  {
   "cell_type": "code",
   "execution_count": 2,
   "id": "25afe11b",
   "metadata": {
    "execution": {
     "iopub.execute_input": "2024-05-08T19:07:48.392486Z",
     "iopub.status.busy": "2024-05-08T19:07:48.392074Z",
     "iopub.status.idle": "2024-05-08T19:08:53.983675Z",
     "shell.execute_reply": "2024-05-08T19:08:53.982261Z"
    },
    "papermill": {
     "duration": 65.604976,
     "end_time": "2024-05-08T19:08:53.986459",
     "exception": false,
     "start_time": "2024-05-08T19:07:48.381483",
     "status": "completed"
    },
    "tags": []
   },
   "outputs": [
    {
     "name": "stdout",
     "output_type": "stream",
     "text": [
      "Collecting tensorflow==2.8.0\r\n",
      "  Downloading tensorflow-2.8.0-cp310-cp310-manylinux2010_x86_64.whl.metadata (2.9 kB)\r\n",
      "Requirement already satisfied: absl-py>=0.4.0 in /opt/conda/lib/python3.10/site-packages (from tensorflow==2.8.0) (1.4.0)\r\n",
      "Requirement already satisfied: astunparse>=1.6.0 in /opt/conda/lib/python3.10/site-packages (from tensorflow==2.8.0) (1.6.3)\r\n",
      "Requirement already satisfied: flatbuffers>=1.12 in /opt/conda/lib/python3.10/site-packages (from tensorflow==2.8.0) (23.5.26)\r\n",
      "Requirement already satisfied: gast>=0.2.1 in /opt/conda/lib/python3.10/site-packages (from tensorflow==2.8.0) (0.5.4)\r\n",
      "Requirement already satisfied: google-pasta>=0.1.1 in /opt/conda/lib/python3.10/site-packages (from tensorflow==2.8.0) (0.2.0)\r\n",
      "Requirement already satisfied: h5py>=2.9.0 in /opt/conda/lib/python3.10/site-packages (from tensorflow==2.8.0) (3.10.0)\r\n",
      "Collecting keras-preprocessing>=1.1.1 (from tensorflow==2.8.0)\r\n",
      "  Downloading Keras_Preprocessing-1.1.2-py2.py3-none-any.whl.metadata (1.9 kB)\r\n",
      "Requirement already satisfied: libclang>=9.0.1 in /opt/conda/lib/python3.10/site-packages (from tensorflow==2.8.0) (16.0.6)\r\n",
      "Requirement already satisfied: numpy>=1.20 in /opt/conda/lib/python3.10/site-packages (from tensorflow==2.8.0) (1.26.4)\r\n",
      "Requirement already satisfied: opt-einsum>=2.3.2 in /opt/conda/lib/python3.10/site-packages (from tensorflow==2.8.0) (3.3.0)\r\n",
      "Requirement already satisfied: protobuf>=3.9.2 in /opt/conda/lib/python3.10/site-packages (from tensorflow==2.8.0) (3.20.3)\r\n",
      "Requirement already satisfied: setuptools in /opt/conda/lib/python3.10/site-packages (from tensorflow==2.8.0) (69.0.3)\r\n",
      "Requirement already satisfied: six>=1.12.0 in /opt/conda/lib/python3.10/site-packages (from tensorflow==2.8.0) (1.16.0)\r\n",
      "Requirement already satisfied: termcolor>=1.1.0 in /opt/conda/lib/python3.10/site-packages (from tensorflow==2.8.0) (2.4.0)\r\n",
      "Requirement already satisfied: typing-extensions>=3.6.6 in /opt/conda/lib/python3.10/site-packages (from tensorflow==2.8.0) (4.9.0)\r\n",
      "Requirement already satisfied: wrapt>=1.11.0 in /opt/conda/lib/python3.10/site-packages (from tensorflow==2.8.0) (1.14.1)\r\n",
      "Collecting tensorboard<2.9,>=2.8 (from tensorflow==2.8.0)\r\n",
      "  Downloading tensorboard-2.8.0-py3-none-any.whl.metadata (1.9 kB)\r\n",
      "Collecting tf-estimator-nightly==2.8.0.dev2021122109 (from tensorflow==2.8.0)\r\n",
      "  Downloading tf_estimator_nightly-2.8.0.dev2021122109-py2.py3-none-any.whl.metadata (1.2 kB)\r\n",
      "Collecting keras<2.9,>=2.8.0rc0 (from tensorflow==2.8.0)\r\n",
      "  Downloading keras-2.8.0-py2.py3-none-any.whl.metadata (1.3 kB)\r\n",
      "Requirement already satisfied: tensorflow-io-gcs-filesystem>=0.23.1 in /opt/conda/lib/python3.10/site-packages (from tensorflow==2.8.0) (0.35.0)\r\n",
      "Requirement already satisfied: grpcio<2.0,>=1.24.3 in /opt/conda/lib/python3.10/site-packages (from tensorflow==2.8.0) (1.60.0)\r\n",
      "Requirement already satisfied: wheel<1.0,>=0.23.0 in /opt/conda/lib/python3.10/site-packages (from astunparse>=1.6.0->tensorflow==2.8.0) (0.42.0)\r\n",
      "Requirement already satisfied: google-auth<3,>=1.6.3 in /opt/conda/lib/python3.10/site-packages (from tensorboard<2.9,>=2.8->tensorflow==2.8.0) (2.26.1)\r\n",
      "Collecting google-auth-oauthlib<0.5,>=0.4.1 (from tensorboard<2.9,>=2.8->tensorflow==2.8.0)\r\n",
      "  Downloading google_auth_oauthlib-0.4.6-py2.py3-none-any.whl.metadata (2.7 kB)\r\n",
      "Requirement already satisfied: markdown>=2.6.8 in /opt/conda/lib/python3.10/site-packages (from tensorboard<2.9,>=2.8->tensorflow==2.8.0) (3.5.2)\r\n",
      "Requirement already satisfied: requests<3,>=2.21.0 in /opt/conda/lib/python3.10/site-packages (from tensorboard<2.9,>=2.8->tensorflow==2.8.0) (2.31.0)\r\n",
      "Collecting tensorboard-data-server<0.7.0,>=0.6.0 (from tensorboard<2.9,>=2.8->tensorflow==2.8.0)\r\n",
      "  Downloading tensorboard_data_server-0.6.1-py3-none-manylinux2010_x86_64.whl.metadata (1.1 kB)\r\n",
      "Collecting tensorboard-plugin-wit>=1.6.0 (from tensorboard<2.9,>=2.8->tensorflow==2.8.0)\r\n",
      "  Downloading tensorboard_plugin_wit-1.8.1-py3-none-any.whl.metadata (873 bytes)\r\n",
      "Requirement already satisfied: werkzeug>=0.11.15 in /opt/conda/lib/python3.10/site-packages (from tensorboard<2.9,>=2.8->tensorflow==2.8.0) (3.0.2)\r\n",
      "Requirement already satisfied: cachetools<6.0,>=2.0.0 in /opt/conda/lib/python3.10/site-packages (from google-auth<3,>=1.6.3->tensorboard<2.9,>=2.8->tensorflow==2.8.0) (4.2.4)\r\n",
      "Requirement already satisfied: pyasn1-modules>=0.2.1 in /opt/conda/lib/python3.10/site-packages (from google-auth<3,>=1.6.3->tensorboard<2.9,>=2.8->tensorflow==2.8.0) (0.3.0)\r\n",
      "Requirement already satisfied: rsa<5,>=3.1.4 in /opt/conda/lib/python3.10/site-packages (from google-auth<3,>=1.6.3->tensorboard<2.9,>=2.8->tensorflow==2.8.0) (4.9)\r\n",
      "Requirement already satisfied: requests-oauthlib>=0.7.0 in /opt/conda/lib/python3.10/site-packages (from google-auth-oauthlib<0.5,>=0.4.1->tensorboard<2.9,>=2.8->tensorflow==2.8.0) (1.3.1)\r\n",
      "Requirement already satisfied: charset-normalizer<4,>=2 in /opt/conda/lib/python3.10/site-packages (from requests<3,>=2.21.0->tensorboard<2.9,>=2.8->tensorflow==2.8.0) (3.3.2)\r\n",
      "Requirement already satisfied: idna<4,>=2.5 in /opt/conda/lib/python3.10/site-packages (from requests<3,>=2.21.0->tensorboard<2.9,>=2.8->tensorflow==2.8.0) (3.6)\r\n",
      "Requirement already satisfied: urllib3<3,>=1.21.1 in /opt/conda/lib/python3.10/site-packages (from requests<3,>=2.21.0->tensorboard<2.9,>=2.8->tensorflow==2.8.0) (1.26.18)\r\n",
      "Requirement already satisfied: certifi>=2017.4.17 in /opt/conda/lib/python3.10/site-packages (from requests<3,>=2.21.0->tensorboard<2.9,>=2.8->tensorflow==2.8.0) (2024.2.2)\r\n",
      "Requirement already satisfied: MarkupSafe>=2.1.1 in /opt/conda/lib/python3.10/site-packages (from werkzeug>=0.11.15->tensorboard<2.9,>=2.8->tensorflow==2.8.0) (2.1.3)\r\n",
      "Requirement already satisfied: pyasn1<0.6.0,>=0.4.6 in /opt/conda/lib/python3.10/site-packages (from pyasn1-modules>=0.2.1->google-auth<3,>=1.6.3->tensorboard<2.9,>=2.8->tensorflow==2.8.0) (0.5.1)\r\n",
      "Requirement already satisfied: oauthlib>=3.0.0 in /opt/conda/lib/python3.10/site-packages (from requests-oauthlib>=0.7.0->google-auth-oauthlib<0.5,>=0.4.1->tensorboard<2.9,>=2.8->tensorflow==2.8.0) (3.2.2)\r\n",
      "Downloading tensorflow-2.8.0-cp310-cp310-manylinux2010_x86_64.whl (497.6 MB)\r\n",
      "\u001b[2K   \u001b[90m━━━━━━━━━━━━━━━━━━━━━━━━━━━━━━━━━━━━━━━━\u001b[0m \u001b[32m497.6/497.6 MB\u001b[0m \u001b[31m3.1 MB/s\u001b[0m eta \u001b[36m0:00:00\u001b[0m\r\n",
      "\u001b[?25hDownloading tf_estimator_nightly-2.8.0.dev2021122109-py2.py3-none-any.whl (462 kB)\r\n",
      "\u001b[2K   \u001b[90m━━━━━━━━━━━━━━━━━━━━━━━━━━━━━━━━━━━━━━━━\u001b[0m \u001b[32m462.5/462.5 kB\u001b[0m \u001b[31m24.3 MB/s\u001b[0m eta \u001b[36m0:00:00\u001b[0m\r\n",
      "\u001b[?25hDownloading keras-2.8.0-py2.py3-none-any.whl (1.4 MB)\r\n",
      "\u001b[2K   \u001b[90m━━━━━━━━━━━━━━━━━━━━━━━━━━━━━━━━━━━━━━━━\u001b[0m \u001b[32m1.4/1.4 MB\u001b[0m \u001b[31m49.1 MB/s\u001b[0m eta \u001b[36m0:00:00\u001b[0m\r\n",
      "\u001b[?25hDownloading Keras_Preprocessing-1.1.2-py2.py3-none-any.whl (42 kB)\r\n",
      "\u001b[2K   \u001b[90m━━━━━━━━━━━━━━━━━━━━━━━━━━━━━━━━━━━━━━━━\u001b[0m \u001b[32m42.6/42.6 kB\u001b[0m \u001b[31m2.4 MB/s\u001b[0m eta \u001b[36m0:00:00\u001b[0m\r\n",
      "\u001b[?25hDownloading tensorboard-2.8.0-py3-none-any.whl (5.8 MB)\r\n",
      "\u001b[2K   \u001b[90m━━━━━━━━━━━━━━━━━━━━━━━━━━━━━━━━━━━━━━━━\u001b[0m \u001b[32m5.8/5.8 MB\u001b[0m \u001b[31m77.4 MB/s\u001b[0m eta \u001b[36m0:00:00\u001b[0m\r\n",
      "\u001b[?25hDownloading google_auth_oauthlib-0.4.6-py2.py3-none-any.whl (18 kB)\r\n",
      "Downloading tensorboard_data_server-0.6.1-py3-none-manylinux2010_x86_64.whl (4.9 MB)\r\n",
      "\u001b[2K   \u001b[90m━━━━━━━━━━━━━━━━━━━━━━━━━━━━━━━━━━━━━━━━\u001b[0m \u001b[32m4.9/4.9 MB\u001b[0m \u001b[31m76.6 MB/s\u001b[0m eta \u001b[36m0:00:00\u001b[0m\r\n",
      "\u001b[?25hDownloading tensorboard_plugin_wit-1.8.1-py3-none-any.whl (781 kB)\r\n",
      "\u001b[2K   \u001b[90m━━━━━━━━━━━━━━━━━━━━━━━━━━━━━━━━━━━━━━━━\u001b[0m \u001b[32m781.3/781.3 kB\u001b[0m \u001b[31m33.6 MB/s\u001b[0m eta \u001b[36m0:00:00\u001b[0m\r\n",
      "\u001b[?25hInstalling collected packages: tf-estimator-nightly, tensorboard-plugin-wit, keras, tensorboard-data-server, keras-preprocessing, google-auth-oauthlib, tensorboard, tensorflow\r\n",
      "  Attempting uninstall: tensorboard-data-server\r\n",
      "    Found existing installation: tensorboard-data-server 0.7.2\r\n",
      "    Uninstalling tensorboard-data-server-0.7.2:\r\n",
      "      Successfully uninstalled tensorboard-data-server-0.7.2\r\n",
      "  Attempting uninstall: google-auth-oauthlib\r\n",
      "    Found existing installation: google-auth-oauthlib 1.2.0\r\n",
      "    Uninstalling google-auth-oauthlib-1.2.0:\r\n",
      "      Successfully uninstalled google-auth-oauthlib-1.2.0\r\n",
      "  Attempting uninstall: tensorboard\r\n",
      "    Found existing installation: tensorboard 2.15.1\r\n",
      "    Uninstalling tensorboard-2.15.1:\r\n",
      "      Successfully uninstalled tensorboard-2.15.1\r\n",
      "\u001b[31mERROR: pip's dependency resolver does not currently take into account all the packages that are installed. This behaviour is the source of the following dependency conflicts.\r\n",
      "tensorflow-decision-forests 1.8.1 requires wurlitzer, which is not installed.\r\n",
      "tensorflow-decision-forests 1.8.1 requires tensorflow~=2.15.0, but you have tensorflow 2.8.0 which is incompatible.\r\n",
      "tensorflow-serving-api 2.14.1 requires tensorflow<3,>=2.14.1, but you have tensorflow 2.8.0 which is incompatible.\r\n",
      "tensorflow-text 2.15.0 requires tensorflow<2.16,>=2.15.0; platform_machine != \"arm64\" or platform_system != \"Darwin\", but you have tensorflow 2.8.0 which is incompatible.\r\n",
      "tf-keras 2.15.1 requires tensorflow<2.16,>=2.15, but you have tensorflow 2.8.0 which is incompatible.\u001b[0m\u001b[31m\r\n",
      "\u001b[0mSuccessfully installed google-auth-oauthlib-0.4.6 keras-2.8.0 keras-preprocessing-1.1.2 tensorboard-2.8.0 tensorboard-data-server-0.6.1 tensorboard-plugin-wit-1.8.1 tensorflow-2.8.0 tf-estimator-nightly-2.8.0.dev2021122109\r\n",
      "Collecting keras==2.7.0\r\n",
      "  Downloading keras-2.7.0-py2.py3-none-any.whl.metadata (1.3 kB)\r\n",
      "Downloading keras-2.7.0-py2.py3-none-any.whl (1.3 MB)\r\n",
      "\u001b[2K   \u001b[90m━━━━━━━━━━━━━━━━━━━━━━━━━━━━━━━━━━━━━━━━\u001b[0m \u001b[32m1.3/1.3 MB\u001b[0m \u001b[31m7.2 MB/s\u001b[0m eta \u001b[36m0:00:00\u001b[0m\r\n",
      "\u001b[?25hInstalling collected packages: keras\r\n",
      "  Attempting uninstall: keras\r\n",
      "    Found existing installation: keras 2.8.0\r\n",
      "    Uninstalling keras-2.8.0:\r\n",
      "      Successfully uninstalled keras-2.8.0\r\n",
      "\u001b[31mERROR: pip's dependency resolver does not currently take into account all the packages that are installed. This behaviour is the source of the following dependency conflicts.\r\n",
      "tensorflow-decision-forests 1.8.1 requires wurlitzer, which is not installed.\r\n",
      "tensorflow 2.8.0 requires keras<2.9,>=2.8.0rc0, but you have keras 2.7.0 which is incompatible.\r\n",
      "tensorflow-decision-forests 1.8.1 requires tensorflow~=2.15.0, but you have tensorflow 2.8.0 which is incompatible.\r\n",
      "tensorflow-serving-api 2.14.1 requires tensorflow<3,>=2.14.1, but you have tensorflow 2.8.0 which is incompatible.\r\n",
      "tensorflow-text 2.15.0 requires tensorflow<2.16,>=2.15.0; platform_machine != \"arm64\" or platform_system != \"Darwin\", but you have tensorflow 2.8.0 which is incompatible.\r\n",
      "tf-keras 2.15.1 requires tensorflow<2.16,>=2.15, but you have tensorflow 2.8.0 which is incompatible.\u001b[0m\u001b[31m\r\n",
      "\u001b[0mSuccessfully installed keras-2.7.0\r\n"
     ]
    }
   ],
   "source": [
    "!pip install tensorflow==2.8.0\n",
    "!pip install keras==2.7.0"
   ]
  },
  {
   "cell_type": "code",
   "execution_count": 3,
   "id": "96fa3a73",
   "metadata": {
    "_cell_guid": "b1076dfc-b9ad-4769-8c92-a6c4dae69d19",
    "_uuid": "8f2839f25d086af736a60e9eeb907d3b93b6e0e5",
    "execution": {
     "iopub.execute_input": "2024-05-08T19:08:54.041903Z",
     "iopub.status.busy": "2024-05-08T19:08:54.041502Z",
     "iopub.status.idle": "2024-05-08T19:08:54.965393Z",
     "shell.execute_reply": "2024-05-08T19:08:54.964122Z"
    },
    "papermill": {
     "duration": 0.954558,
     "end_time": "2024-05-08T19:08:54.968073",
     "exception": false,
     "start_time": "2024-05-08T19:08:54.013515",
     "status": "completed"
    },
    "tags": []
   },
   "outputs": [
    {
     "name": "stdout",
     "output_type": "stream",
     "text": [
      "/kaggle/input/fake-and-real-news-dataset/True.csv\n",
      "/kaggle/input/fake-and-real-news-dataset/Fake.csv\n",
      "/kaggle/input/glove6b300dtxt/glove.6B.300d.txt\n",
      "/kaggle/input/fake-news-classification/WELFake_Dataset.csv\n"
     ]
    }
   ],
   "source": [
    "# This Python 3 environment comes with many helpful analytics libraries installed\n",
    "# It is defined by the kaggle/python Docker image: https://github.com/kaggle/docker-python\n",
    "# For example, here's several helpful packages to load\n",
    "\n",
    "import numpy as np # linear algebra\n",
    "import pandas as pd # data processing, CSV file I/O (e.g. pd.read_csv)\n",
    "\n",
    "# Input data files are available in the read-only \"../input/\" directory\n",
    "# For example, running this (by clicking run or pressing Shift+Enter) will list all files under the input directory\n",
    "\n",
    "import os\n",
    "for dirname, _, filenames in os.walk('/kaggle/input'):\n",
    "    for filename in filenames:\n",
    "        print(os.path.join(dirname, filename))\n",
    "\n",
    "# You can write up to 20GB to the current directory (/kaggle/working/) that gets preserved as output when you create a version using \"Save & Run All\" \n",
    "# You can also write temporary files to /kaggle/temp/, but they won't be saved outside of the current session"
   ]
  },
  {
   "cell_type": "code",
   "execution_count": 4,
   "id": "1ba718a3",
   "metadata": {
    "execution": {
     "iopub.execute_input": "2024-05-08T19:08:55.023971Z",
     "iopub.status.busy": "2024-05-08T19:08:55.023159Z",
     "iopub.status.idle": "2024-05-08T19:09:05.172264Z",
     "shell.execute_reply": "2024-05-08T19:09:05.171171Z"
    },
    "papermill": {
     "duration": 10.1792,
     "end_time": "2024-05-08T19:09:05.174721",
     "exception": false,
     "start_time": "2024-05-08T19:08:54.995521",
     "status": "completed"
    },
    "tags": []
   },
   "outputs": [
    {
     "name": "stdout",
     "output_type": "stream",
     "text": [
      "<class 'pandas.core.frame.DataFrame'>\n",
      "RangeIndex: 72134 entries, 0 to 72133\n",
      "Data columns (total 4 columns):\n",
      " #   Column      Non-Null Count  Dtype \n",
      "---  ------      --------------  ----- \n",
      " 0   Unnamed: 0  72134 non-null  int64 \n",
      " 1   text        71537 non-null  object\n",
      " 2   real        72134 non-null  int64 \n",
      " 3   fake        72134 non-null  int64 \n",
      "dtypes: int64(3), object(1)\n",
      "memory usage: 2.2+ MB\n",
      "None\n"
     ]
    },
    {
     "data": {
      "text/html": [
       "<div>\n",
       "<style scoped>\n",
       "    .dataframe tbody tr th:only-of-type {\n",
       "        vertical-align: middle;\n",
       "    }\n",
       "\n",
       "    .dataframe tbody tr th {\n",
       "        vertical-align: top;\n",
       "    }\n",
       "\n",
       "    .dataframe thead th {\n",
       "        text-align: right;\n",
       "    }\n",
       "</style>\n",
       "<table border=\"1\" class=\"dataframe\">\n",
       "  <thead>\n",
       "    <tr style=\"text-align: right;\">\n",
       "      <th></th>\n",
       "      <th>Unnamed: 0</th>\n",
       "      <th>text</th>\n",
       "      <th>real</th>\n",
       "      <th>fake</th>\n",
       "    </tr>\n",
       "  </thead>\n",
       "  <tbody>\n",
       "    <tr>\n",
       "      <th>0</th>\n",
       "      <td>11360</td>\n",
       "      <td>Live Nation Postpones Six New York Concerts in...</td>\n",
       "      <td>0</td>\n",
       "      <td>1</td>\n",
       "    </tr>\n",
       "    <tr>\n",
       "      <th>1</th>\n",
       "      <td>26333</td>\n",
       "      <td>DNC Senior Adviser: Trump ’So Emasculated’ by ...</td>\n",
       "      <td>0</td>\n",
       "      <td>1</td>\n",
       "    </tr>\n",
       "    <tr>\n",
       "      <th>2</th>\n",
       "      <td>63247</td>\n",
       "      <td>Trump Eases Combat Rules in Somalia Intended t...</td>\n",
       "      <td>0</td>\n",
       "      <td>1</td>\n",
       "    </tr>\n",
       "    <tr>\n",
       "      <th>3</th>\n",
       "      <td>18932</td>\n",
       "      <td>WATCH: Fox Host Chris Wallace HUMILIATES Trum...</td>\n",
       "      <td>1</td>\n",
       "      <td>0</td>\n",
       "    </tr>\n",
       "    <tr>\n",
       "      <th>4</th>\n",
       "      <td>52364</td>\n",
       "      <td>WATCH: CNN NAILS Trump For Lie That He Would ...</td>\n",
       "      <td>1</td>\n",
       "      <td>0</td>\n",
       "    </tr>\n",
       "  </tbody>\n",
       "</table>\n",
       "</div>"
      ],
      "text/plain": [
       "   Unnamed: 0                                               text  real  fake\n",
       "0       11360  Live Nation Postpones Six New York Concerts in...     0     1\n",
       "1       26333  DNC Senior Adviser: Trump ’So Emasculated’ by ...     0     1\n",
       "2       63247  Trump Eases Combat Rules in Somalia Intended t...     0     1\n",
       "3       18932   WATCH: Fox Host Chris Wallace HUMILIATES Trum...     1     0\n",
       "4       52364   WATCH: CNN NAILS Trump For Lie That He Would ...     1     0"
      ]
     },
     "metadata": {},
     "output_type": "display_data"
    }
   ],
   "source": [
    "import pandas as pd\n",
    "\n",
    "# Load the dataset\n",
    "data = pd.read_csv(\"/kaggle/input/fake-news-classification/WELFake_Dataset.csv\")\n",
    "\n",
    "# Concatenate 'title' and 'text'\n",
    "data['text'] = data['title'] + \" \" + data['text']\n",
    "\n",
    "# Create 'real' and 'fake' binary labels\n",
    "data['real'] = data['label']\n",
    "data['fake'] = 1 - data['label']\n",
    "\n",
    "# Drop unneeded original columns\n",
    "data.drop(columns=[\"title\", \"label\"], inplace=True)\n",
    "\n",
    "# Rename dataframe\n",
    "News = data\n",
    "\n",
    "# Optional shuffle\n",
    "News = News.sample(frac=1).reset_index(drop=True)\n",
    "\n",
    "# Verify the data\n",
    "print(News.info())\n",
    "display(News.head())"
   ]
  },
  {
   "cell_type": "code",
   "execution_count": 5,
   "id": "54f8d022",
   "metadata": {
    "execution": {
     "iopub.execute_input": "2024-05-08T19:09:05.229246Z",
     "iopub.status.busy": "2024-05-08T19:09:05.228855Z",
     "iopub.status.idle": "2024-05-08T19:09:07.763631Z",
     "shell.execute_reply": "2024-05-08T19:09:07.762463Z"
    },
    "papermill": {
     "duration": 2.565185,
     "end_time": "2024-05-08T19:09:07.766360",
     "exception": false,
     "start_time": "2024-05-08T19:09:05.201175",
     "status": "completed"
    },
    "tags": []
   },
   "outputs": [
    {
     "name": "stdout",
     "output_type": "stream",
     "text": [
      "[nltk_data] Downloading package wordnet to /kaggle/working/...\n",
      "Archive:  /kaggle/working/corpora/wordnet.zip\n",
      "   creating: /kaggle/working/corpora/wordnet/\n",
      "  inflating: /kaggle/working/corpora/wordnet/lexnames  \n",
      "  inflating: /kaggle/working/corpora/wordnet/data.verb  \n",
      "  inflating: /kaggle/working/corpora/wordnet/index.adv  \n",
      "  inflating: /kaggle/working/corpora/wordnet/adv.exc  \n",
      "  inflating: /kaggle/working/corpora/wordnet/index.verb  \n",
      "  inflating: /kaggle/working/corpora/wordnet/cntlist.rev  \n",
      "  inflating: /kaggle/working/corpora/wordnet/data.adj  \n",
      "  inflating: /kaggle/working/corpora/wordnet/index.adj  \n",
      "  inflating: /kaggle/working/corpora/wordnet/LICENSE  \n",
      "  inflating: /kaggle/working/corpora/wordnet/citation.bib  \n",
      "  inflating: /kaggle/working/corpora/wordnet/noun.exc  \n",
      "  inflating: /kaggle/working/corpora/wordnet/verb.exc  \n",
      "  inflating: /kaggle/working/corpora/wordnet/README  \n",
      "  inflating: /kaggle/working/corpora/wordnet/index.sense  \n",
      "  inflating: /kaggle/working/corpora/wordnet/data.noun  \n",
      "  inflating: /kaggle/working/corpora/wordnet/data.adv  \n",
      "  inflating: /kaggle/working/corpora/wordnet/index.noun  \n",
      "  inflating: /kaggle/working/corpora/wordnet/adj.exc  \n"
     ]
    }
   ],
   "source": [
    "import nltk\n",
    "import subprocess\n",
    "\n",
    "# Download and unzip wordnet\n",
    "try:\n",
    "    nltk.data.find('wordnet.zip')\n",
    "except:\n",
    "    nltk.download('wordnet', download_dir='/kaggle/working/')\n",
    "    command = \"unzip /kaggle/working/corpora/wordnet.zip -d /kaggle/working/corpora\"\n",
    "    subprocess.run(command.split())\n",
    "    nltk.data.path.append('/kaggle/working/')\n",
    "\n",
    "# Now you can import the NLTK resources as usual\n",
    "from nltk.corpus import wordnet"
   ]
  },
  {
   "cell_type": "code",
   "execution_count": 6,
   "id": "fb3bdea7",
   "metadata": {
    "execution": {
     "iopub.execute_input": "2024-05-08T19:09:07.822841Z",
     "iopub.status.busy": "2024-05-08T19:09:07.822437Z",
     "iopub.status.idle": "2024-05-08T19:12:35.716772Z",
     "shell.execute_reply": "2024-05-08T19:12:35.715573Z"
    },
    "papermill": {
     "duration": 207.925225,
     "end_time": "2024-05-08T19:12:35.719673",
     "exception": false,
     "start_time": "2024-05-08T19:09:07.794448",
     "status": "completed"
    },
    "tags": []
   },
   "outputs": [],
   "source": [
    "import re\n",
    "from nltk.corpus import stopwords\n",
    "from nltk.stem import WordNetLemmatizer\n",
    "\n",
    "def preprocess_text(text):\n",
    "    # Ensure the text is a string\n",
    "    text = str(text)\n",
    "    \n",
    "    # Remove punctuation and numbers\n",
    "    text = re.sub(r'[^\\w\\s]', '', text)\n",
    "    text = re.sub(r'\\d+', '', text)\n",
    "\n",
    "    # Lowercasing\n",
    "    text = text.lower()\n",
    "\n",
    "    # Stopword removal\n",
    "    stop_words = set(stopwords.words('english'))\n",
    "    text = ' '.join([word for word in text.split() if word not in stop_words])\n",
    "\n",
    "    # Lemmatization\n",
    "    lemmatizer = WordNetLemmatizer()\n",
    "    text = ' '.join([lemmatizer.lemmatize(word) for word in text.split()])\n",
    "\n",
    "    return text\n",
    "\n",
    "# Apply the preprocessing to the 'text' column\n",
    "News['text'] = News['text'].apply(preprocess_text)"
   ]
  },
  {
   "cell_type": "code",
   "execution_count": 7,
   "id": "affb0a6d",
   "metadata": {
    "execution": {
     "iopub.execute_input": "2024-05-08T19:12:35.776328Z",
     "iopub.status.busy": "2024-05-08T19:12:35.775906Z",
     "iopub.status.idle": "2024-05-08T19:12:35.923963Z",
     "shell.execute_reply": "2024-05-08T19:12:35.922973Z"
    },
    "papermill": {
     "duration": 0.178982,
     "end_time": "2024-05-08T19:12:35.926440",
     "exception": false,
     "start_time": "2024-05-08T19:12:35.747458",
     "status": "completed"
    },
    "tags": []
   },
   "outputs": [
    {
     "name": "stdout",
     "output_type": "stream",
     "text": [
      "                                                text\n",
      "0  live nation postpones six new york concert wak...\n",
      "1  dnc senior adviser trump emasculated putin com...\n",
      "2  trump eas combat rule somalia intended protect...\n",
      "3  watch fox host chris wallace humiliates trump ...\n",
      "4  watch cnn nail trump lie would never demand lo...\n"
     ]
    }
   ],
   "source": [
    "# Your additional handling\n",
    "processed_list = []\n",
    "for j in News['text']:\n",
    "    process = j.replace('...', '')\n",
    "    processed_list.append(process)\n",
    "\n",
    "df_processed = pd.DataFrame(processed_list)\n",
    "df_processed.columns = ['text']\n",
    "print(df_processed.head(n=5))"
   ]
  },
  {
   "cell_type": "code",
   "execution_count": 8,
   "id": "4936f87a",
   "metadata": {
    "execution": {
     "iopub.execute_input": "2024-05-08T19:12:35.982662Z",
     "iopub.status.busy": "2024-05-08T19:12:35.982263Z",
     "iopub.status.idle": "2024-05-08T19:12:36.006020Z",
     "shell.execute_reply": "2024-05-08T19:12:36.004886Z"
    },
    "papermill": {
     "duration": 0.054755,
     "end_time": "2024-05-08T19:12:36.008449",
     "exception": false,
     "start_time": "2024-05-08T19:12:35.953694",
     "status": "completed"
    },
    "tags": []
   },
   "outputs": [],
   "source": [
    "X = list(df_processed['text']);\n",
    "y_data = News[[\"fake\",\"real\"]]\n",
    "y = y_data.values"
   ]
  },
  {
   "cell_type": "code",
   "execution_count": 9,
   "id": "9019c696",
   "metadata": {
    "execution": {
     "iopub.execute_input": "2024-05-08T19:12:36.066081Z",
     "iopub.status.busy": "2024-05-08T19:12:36.065118Z",
     "iopub.status.idle": "2024-05-08T19:12:36.102143Z",
     "shell.execute_reply": "2024-05-08T19:12:36.100854Z"
    },
    "papermill": {
     "duration": 0.069138,
     "end_time": "2024-05-08T19:12:36.105171",
     "exception": false,
     "start_time": "2024-05-08T19:12:36.036033",
     "status": "completed"
    },
    "tags": []
   },
   "outputs": [],
   "source": [
    "from sklearn.model_selection import train_test_split\n",
    "x_train, x_test, y_train, y_test = train_test_split(X, y,\n",
    "                                                    test_size=0.15, train_size=0.85)"
   ]
  },
  {
   "cell_type": "code",
   "execution_count": 10,
   "id": "cca92df8",
   "metadata": {
    "execution": {
     "iopub.execute_input": "2024-05-08T19:12:36.161424Z",
     "iopub.status.busy": "2024-05-08T19:12:36.160908Z",
     "iopub.status.idle": "2024-05-08T19:13:27.837007Z",
     "shell.execute_reply": "2024-05-08T19:13:27.835655Z"
    },
    "papermill": {
     "duration": 51.707154,
     "end_time": "2024-05-08T19:13:27.839998",
     "exception": false,
     "start_time": "2024-05-08T19:12:36.132844",
     "status": "completed"
    },
    "tags": []
   },
   "outputs": [],
   "source": [
    "\n",
    "from keras.preprocessing.text import one_hot\n",
    "from keras.preprocessing.sequence import pad_sequences\n",
    "from keras.models import Sequential\n",
    "from keras.layers.core import Activation, Dropout, Dense\n",
    "from keras.layers import Flatten, LSTM\n",
    "from keras.layers import Bidirectional,GRU,concatenate,SpatialDropout1D\n",
    "from keras.layers import GlobalMaxPooling1D,GlobalAveragePooling1D,Conv1D\n",
    "from keras.models import Model\n",
    "from keras.layers.embeddings import Embedding\n",
    "from sklearn.model_selection import train_test_split\n",
    "from keras.preprocessing.text import Tokenizer\n",
    "from keras.layers import Input\n",
    "from keras.layers.merge import Concatenate\n",
    "import matplotlib.pyplot as plt\n",
    "from keras import layers\n",
    "from tensorflow.keras.optimizers import Adam,SGD,RMSprop\n",
    "######## Textual Features for Embedding ###################\n",
    "max_len = 100\n",
    "max_features = 10000\n",
    "embed_size = 300\n",
    "tokenizer = Tokenizer(num_words=max_features)\n",
    "tokenizer.fit_on_texts(list(x_train)+list(x_test))\n",
    "x_train = tokenizer.texts_to_sequences(x_train)\n",
    "x_test= tokenizer.texts_to_sequences(x_test)\n",
    "x_train = pad_sequences(x_train, padding='post', maxlen=max_len)\n",
    "x_test = pad_sequences(x_test, padding='post', maxlen=max_len)"
   ]
  },
  {
   "cell_type": "code",
   "execution_count": 11,
   "id": "00bb7203",
   "metadata": {
    "execution": {
     "iopub.execute_input": "2024-05-08T19:13:27.896595Z",
     "iopub.status.busy": "2024-05-08T19:13:27.895803Z",
     "iopub.status.idle": "2024-05-08T19:14:18.574790Z",
     "shell.execute_reply": "2024-05-08T19:14:18.573860Z"
    },
    "papermill": {
     "duration": 50.710255,
     "end_time": "2024-05-08T19:14:18.577419",
     "exception": false,
     "start_time": "2024-05-08T19:13:27.867164",
     "status": "completed"
    },
    "tags": []
   },
   "outputs": [],
   "source": [
    "from numpy import array\n",
    "from numpy import asarray\n",
    "from numpy import zeros\n",
    "embeddings_dictionary = dict()\n",
    "glove_file = open(\"/kaggle/input/glove6b300dtxt/glove.6B.300d.txt\", encoding=\"utf8\") ## pre-trained or self trained global vectors file ##\n",
    "for line in glove_file:\n",
    "    records = line.split()\n",
    "    word = records[0]\n",
    "    vector_dimensions = asarray(records[1:], dtype='float32')\n",
    "    embeddings_dictionary[word] = vector_dimensions\n",
    "glove_file.close()\n",
    "vocab_size = len(tokenizer.word_index) + 1  ## total distinct words is the Vocabulary ##\n",
    "word_index = tokenizer.word_index\n",
    "num_words = min(max_features,len(word_index)+1)\n",
    "embedding_matrix = zeros((num_words, embed_size)) ## has to be similar to glove dimension ##\n",
    "for word, index in tokenizer.word_index.items():\n",
    "    if index >= max_features:\n",
    "        continue\n",
    "    embedding_vector = embeddings_dictionary.get(word)\n",
    "    if embedding_vector is not None:\n",
    "        embedding_matrix[index] = embedding_vector"
   ]
  },
  {
   "cell_type": "code",
   "execution_count": 12,
   "id": "71842417",
   "metadata": {
    "execution": {
     "iopub.execute_input": "2024-05-08T19:14:18.634173Z",
     "iopub.status.busy": "2024-05-08T19:14:18.633004Z",
     "iopub.status.idle": "2024-05-08T19:14:19.114909Z",
     "shell.execute_reply": "2024-05-08T19:14:19.112999Z"
    },
    "papermill": {
     "duration": 0.512756,
     "end_time": "2024-05-08T19:14:19.117157",
     "exception": false,
     "start_time": "2024-05-08T19:14:18.604401",
     "status": "completed"
    },
    "tags": []
   },
   "outputs": [
    {
     "name": "stdout",
     "output_type": "stream",
     "text": [
      "Model: \"model\"\n",
      "_________________________________________________________________\n",
      " Layer (type)                Output Shape              Param #   \n",
      "=================================================================\n",
      " input_1 (InputLayer)        [(None, 100)]             0         \n",
      "                                                                 \n",
      " embedding (Embedding)       (None, 100, 300)          3000000   \n",
      "                                                                 \n",
      " spatial_dropout1d (SpatialD  (None, 100, 300)         0         \n",
      " ropout1D)                                                       \n",
      "                                                                 \n",
      " conv1d (Conv1D)             (None, 98, 64)            57664     \n",
      "                                                                 \n",
      " bidirectional (Bidirectiona  (None, 98, 256)          197632    \n",
      " l)                                                              \n",
      "                                                                 \n",
      " global_average_pooling1d (G  (None, 256)              0         \n",
      " lobalAveragePooling1D)                                          \n",
      "                                                                 \n",
      " dense (Dense)               (None, 128)               32896     \n",
      "                                                                 \n",
      " batch_normalization (BatchN  (None, 128)              512       \n",
      " ormalization)                                                   \n",
      "                                                                 \n",
      " activation (Activation)     (None, 128)               0         \n",
      "                                                                 \n",
      " dropout (Dropout)           (None, 128)               0         \n",
      "                                                                 \n",
      " dense_1 (Dense)             (None, 2)                 258       \n",
      "                                                                 \n",
      "=================================================================\n",
      "Total params: 3,288,962\n",
      "Trainable params: 288,706\n",
      "Non-trainable params: 3,000,256\n",
      "_________________________________________________________________\n",
      "None\n"
     ]
    },
    {
     "name": "stderr",
     "output_type": "stream",
     "text": [
      "/opt/conda/lib/python3.10/site-packages/keras/optimizer_v2/rmsprop.py:130: UserWarning: The `lr` argument is deprecated, use `learning_rate` instead.\n",
      "  super(RMSprop, self).__init__(name, **kwargs)\n"
     ]
    }
   ],
   "source": [
    "from tensorflow.keras.layers import BatchNormalization\n",
    "\n",
    "sequence_input = Input(shape=(max_len, ))\n",
    "x = Embedding(max_features, embed_size, weights=[embedding_matrix], trainable=False)(sequence_input)\n",
    "x = SpatialDropout1D(0.2)(x)\n",
    "x = Conv1D(64, kernel_size=3, padding=\"valid\", kernel_initializer=\"glorot_uniform\")(x)\n",
    "x = Bidirectional(LSTM(128, return_sequences=True, dropout=0.1, recurrent_dropout=0.1))(x)\n",
    "avg_pool = GlobalAveragePooling1D()(x)\n",
    "x = Dense(128)(avg_pool)  # Remove activation\n",
    "x = BatchNormalization()(x)  # Add BatchNormalization\n",
    "x = Activation('relu')(x)  # Add activation after BatchNormalization\n",
    "x = Dropout(0.1)(x)\n",
    "preds = Dense(2, activation=\"sigmoid\")(x)\n",
    "model = Model(sequence_input, preds)\n",
    "model.compile(loss='binary_crossentropy', optimizer=RMSprop(lr=1e-3), metrics=['accuracy'])\n",
    "print(model.summary())"
   ]
  },
  {
   "cell_type": "code",
   "execution_count": 13,
   "id": "18254695",
   "metadata": {
    "execution": {
     "iopub.execute_input": "2024-05-08T19:14:19.173129Z",
     "iopub.status.busy": "2024-05-08T19:14:19.172708Z",
     "iopub.status.idle": "2024-05-08T19:36:47.603084Z",
     "shell.execute_reply": "2024-05-08T19:36:47.601539Z"
    },
    "papermill": {
     "duration": 1348.461873,
     "end_time": "2024-05-08T19:36:47.606095",
     "exception": false,
     "start_time": "2024-05-08T19:14:19.144222",
     "status": "completed"
    },
    "tags": []
   },
   "outputs": [
    {
     "name": "stdout",
     "output_type": "stream",
     "text": [
      "Epoch 1/5\n",
      "384/384 [==============================] - 281s 713ms/step - loss: 0.3516 - accuracy: 0.8480 - val_loss: 0.2741 - val_accuracy: 0.8900\n",
      "Epoch 2/5\n",
      "384/384 [==============================] - 267s 696ms/step - loss: 0.2363 - accuracy: 0.9017 - val_loss: 0.3573 - val_accuracy: 0.8511\n",
      "Epoch 3/5\n",
      "384/384 [==============================] - 266s 694ms/step - loss: 0.2041 - accuracy: 0.9167 - val_loss: 0.2422 - val_accuracy: 0.9049\n",
      "Epoch 4/5\n",
      "384/384 [==============================] - 265s 690ms/step - loss: 0.1829 - accuracy: 0.9258 - val_loss: 0.2154 - val_accuracy: 0.9205\n",
      "Epoch 5/5\n",
      "384/384 [==============================] - 269s 700ms/step - loss: 0.1679 - accuracy: 0.9318 - val_loss: 0.2419 - val_accuracy: 0.9058\n"
     ]
    }
   ],
   "source": [
    "history = model.fit(x_train, y_train, batch_size=128, epochs=5,\n",
    "                    verbose=1, validation_split=0.2)\n",
    "model.save_weights(\"./DLPProject.h5\")"
   ]
  },
  {
   "cell_type": "code",
   "execution_count": 14,
   "id": "d7232c6e",
   "metadata": {
    "execution": {
     "iopub.execute_input": "2024-05-08T19:36:48.030313Z",
     "iopub.status.busy": "2024-05-08T19:36:48.029823Z",
     "iopub.status.idle": "2024-05-08T19:36:48.092060Z",
     "shell.execute_reply": "2024-05-08T19:36:48.090959Z"
    },
    "papermill": {
     "duration": 0.278252,
     "end_time": "2024-05-08T19:36:48.094857",
     "exception": false,
     "start_time": "2024-05-08T19:36:47.816605",
     "status": "completed"
    },
    "tags": []
   },
   "outputs": [],
   "source": [
    "model.save(\"model.h5\")\n"
   ]
  },
  {
   "cell_type": "code",
   "execution_count": 15,
   "id": "b00ed3d6",
   "metadata": {
    "execution": {
     "iopub.execute_input": "2024-05-08T19:36:48.520179Z",
     "iopub.status.busy": "2024-05-08T19:36:48.519288Z",
     "iopub.status.idle": "2024-05-08T19:37:02.726448Z",
     "shell.execute_reply": "2024-05-08T19:37:02.725199Z"
    },
    "papermill": {
     "duration": 14.421919,
     "end_time": "2024-05-08T19:37:02.729107",
     "exception": false,
     "start_time": "2024-05-08T19:36:48.307188",
     "status": "completed"
    },
    "tags": []
   },
   "outputs": [
    {
     "name": "stdout",
     "output_type": "stream",
     "text": [
      "339/339 [==============================] - 14s 42ms/step - loss: 0.2396 - accuracy: 0.9033\n"
     ]
    }
   ],
   "source": [
    "score = model.evaluate(x_test, y_test, verbose=1)"
   ]
  },
  {
   "cell_type": "code",
   "execution_count": 16,
   "id": "12894156",
   "metadata": {
    "execution": {
     "iopub.execute_input": "2024-05-08T19:37:03.211086Z",
     "iopub.status.busy": "2024-05-08T19:37:03.210099Z",
     "iopub.status.idle": "2024-05-08T19:37:03.600678Z",
     "shell.execute_reply": "2024-05-08T19:37:03.599416Z"
    },
    "papermill": {
     "duration": 0.627059,
     "end_time": "2024-05-08T19:37:03.603618",
     "exception": false,
     "start_time": "2024-05-08T19:37:02.976559",
     "status": "completed"
    },
    "tags": []
   },
   "outputs": [
    {
     "data": {
      "image/png": "[encoded data removed]",
      "text/plain": [
       "<Figure size 640x480 with 1 Axes>"
      ]
     },
     "metadata": {},
     "output_type": "display_data"
    }
   ],
   "source": [
    "plt.plot(history.history['accuracy'])\n",
    "plt.plot(history.history['val_accuracy'])\n",
    "plt.title('model accuracy')\n",
    "plt.ylabel('accuracy')\n",
    "plt.xlabel('epoch')\n",
    "plt.legend(['train','test'], loc='upper left')\n",
    "plt.show()"
   ]
  },
  {
   "cell_type": "code",
   "execution_count": 17,
   "id": "38c3865c",
   "metadata": {
    "execution": {
     "iopub.execute_input": "2024-05-08T19:37:04.068551Z",
     "iopub.status.busy": "2024-05-08T19:37:04.067427Z",
     "iopub.status.idle": "2024-05-08T19:37:04.409448Z",
     "shell.execute_reply": "2024-05-08T19:37:04.408237Z"
    },
    "papermill": {
     "duration": 0.57566,
     "end_time": "2024-05-08T19:37:04.412147",
     "exception": false,
     "start_time": "2024-05-08T19:37:03.836487",
     "status": "completed"
    },
    "tags": []
   },
   "outputs": [
    {
     "data": {
      "image/png": "[encoded data removed]",
      "text/plain": [
       "<Figure size 640x480 with 1 Axes>"
      ]
     },
     "metadata": {},
     "output_type": "display_data"
    }
   ],
   "source": [
    "plt.plot(history.history['loss'])\n",
    "plt.plot(history.history['val_loss'])\n",
    "plt.title('model loss')\n",
    "plt.ylabel('loss')\n",
    "plt.xlabel('epoch')\n",
    "plt.legend(['train','test'], loc='upper left')\n",
    "plt.show()"
   ]
  },
  {
   "cell_type": "code",
   "execution_count": 18,
   "id": "2fdaab12",
   "metadata": {
    "execution": {
     "iopub.execute_input": "2024-05-08T19:37:04.870077Z",
     "iopub.status.busy": "2024-05-08T19:37:04.869643Z",
     "iopub.status.idle": "2024-05-08T19:37:04.878922Z",
     "shell.execute_reply": "2024-05-08T19:37:04.877685Z"
    },
    "papermill": {
     "duration": 0.241616,
     "end_time": "2024-05-08T19:37:04.881293",
     "exception": false,
     "start_time": "2024-05-08T19:37:04.639677",
     "status": "completed"
    },
    "tags": []
   },
   "outputs": [],
   "source": [
    "import re\n",
    "from nltk.corpus import stopwords\n",
    "from nltk.stem import WordNetLemmatizer\n",
    "\n",
    "def preprocess_text_test(text):\n",
    "    # Ensure text is a string\n",
    "    text = str(text)\n",
    "    \n",
    "    # Remove punctuation and numbers\n",
    "    text = re.sub(r'[^\\w\\s]', '', text)\n",
    "    text = re.sub(r'\\d+', '', text)\n",
    "\n",
    "    # Lowercasing\n",
    "    text = text.lower()\n",
    "\n",
    "    # Stopword removal\n",
    "    stop_words = set(stopwords.words('english'))\n",
    "    text = ' '.join([word for word in text.split() if word not in stop_words])\n",
    "\n",
    "    # Lemmatization\n",
    "    lemmatizer = WordNetLemmatizer()\n",
    "    text = ' '.join([lemmatizer.lemmatize(word) for word in text.split()])\n",
    "\n",
    "    return text"
   ]
  },
  {
   "cell_type": "code",
   "execution_count": 19,
   "id": "e82769b9",
   "metadata": {
    "execution": {
     "iopub.execute_input": "2024-05-08T19:37:05.341018Z",
     "iopub.status.busy": "2024-05-08T19:37:05.340589Z",
     "iopub.status.idle": "2024-05-08T19:37:08.931159Z",
     "shell.execute_reply": "2024-05-08T19:37:08.929961Z"
    },
    "papermill": {
     "duration": 3.823516,
     "end_time": "2024-05-08T19:37:08.933979",
     "exception": false,
     "start_time": "2024-05-08T19:37:05.110463",
     "status": "completed"
    },
    "tags": []
   },
   "outputs": [],
   "source": [
    "import pandas as pd\n",
    "\n",
    "# Load datasets\n",
    "fake_news = pd.read_csv(\"/kaggle/input/fake-and-real-news-dataset/Fake.csv\")\n",
    "real_news = pd.read_csv(\"/kaggle/input/fake-and-real-news-dataset/True.csv\")\n",
    "\n",
    "# Add labels\n",
    "fake_news['label'] = 0\n",
    "real_news['label'] = 1\n",
    "\n",
    "# Concatenate datasets\n",
    "news_data = pd.concat([fake_news, real_news], ignore_index=True)\n",
    "\n",
    "# Shuffle the data\n",
    "news_data = news_data.sample(frac=1).reset_index(drop=True)"
   ]
  },
  {
   "cell_type": "code",
   "execution_count": 20,
   "id": "5cebfeb9",
   "metadata": {
    "execution": {
     "iopub.execute_input": "2024-05-08T19:37:09.461205Z",
     "iopub.status.busy": "2024-05-08T19:37:09.460519Z",
     "iopub.status.idle": "2024-05-08T19:38:46.353374Z",
     "shell.execute_reply": "2024-05-08T19:38:46.352274Z"
    },
    "papermill": {
     "duration": 97.19433,
     "end_time": "2024-05-08T19:38:46.356355",
     "exception": false,
     "start_time": "2024-05-08T19:37:09.162025",
     "status": "completed"
    },
    "tags": []
   },
   "outputs": [],
   "source": [
    "# The 'text' column needs to be handled; a preprocessing function should be defined.\n",
    "news_data['text'] = news_data['text'].apply(preprocess_text_test)"
   ]
  },
  {
   "cell_type": "code",
   "execution_count": 21,
   "id": "614a1e52",
   "metadata": {
    "execution": {
     "iopub.execute_input": "2024-05-08T19:38:46.818834Z",
     "iopub.status.busy": "2024-05-08T19:38:46.818409Z",
     "iopub.status.idle": "2024-05-08T19:39:07.221710Z",
     "shell.execute_reply": "2024-05-08T19:39:07.220278Z"
    },
    "papermill": {
     "duration": 20.638334,
     "end_time": "2024-05-08T19:39:07.225225",
     "exception": false,
     "start_time": "2024-05-08T19:38:46.586891",
     "status": "completed"
    },
    "tags": []
   },
   "outputs": [],
   "source": [
    "from tensorflow.keras.preprocessing.text import Tokenizer\n",
    "from tensorflow.keras.preprocessing.sequence import pad_sequences\n",
    "import numpy as np\n",
    "\n",
    "max_len = 100\n",
    "max_features = 10000\n",
    "embed_size = 300  # Assuming you'd have an embedding layer expecting this input dimension\n",
    "\n",
    "# Tokenize text\n",
    "tokenizer = Tokenizer(num_words=max_features)\n",
    "tokenizer.fit_on_texts(news_data['text'])\n",
    "sequences = tokenizer.texts_to_sequences(news_data['text'])\n",
    "\n",
    "# Pad sequences\n",
    "x_test = pad_sequences(sequences, maxlen=max_len)\n",
    "\n",
    "# Convert labels to numpy array\n",
    "y_test = np.array(news_data['label'])"
   ]
  },
  {
   "cell_type": "code",
   "execution_count": 22,
   "id": "8832b069",
   "metadata": {
    "execution": {
     "iopub.execute_input": "2024-05-08T19:39:07.691249Z",
     "iopub.status.busy": "2024-05-08T19:39:07.690810Z",
     "iopub.status.idle": "2024-05-08T19:43:20.329273Z",
     "shell.execute_reply": "2024-05-08T19:43:20.328074Z"
    },
    "papermill": {
     "duration": 252.871365,
     "end_time": "2024-05-08T19:43:20.332378",
     "exception": false,
     "start_time": "2024-05-08T19:39:07.461013",
     "status": "completed"
    },
    "tags": []
   },
   "outputs": [],
   "source": [
    "import pandas as pd\n",
    "from tensorflow.keras.preprocessing.text import Tokenizer\n",
    "from tensorflow.keras.preprocessing.sequence import pad_sequences\n",
    "\n",
    "# Load the dataset\n",
    "new_data = pd.read_csv('//kaggle/input/fake-news-classification/WELFake_Dataset.csv')\n",
    "\n",
    "# Assuming 'text' column holds the text and 'label' is the target\n",
    "texts = new_data['text'].apply(preprocess_text_test)  # Use the same preprocessing function you used in training\n",
    "labels = new_data['label']\n",
    "\n",
    "# Additional cleaning specific to your dataset\n",
    "#new_data['text'] = new_data['text'].replace(r'\\.\\.\\.', '', regex=True)\n",
    "max_len = 100\n",
    "max_features = 10000\n",
    "embed_size = 300\n",
    "# Tokenize text\n",
    "tokenizer = Tokenizer(num_words=max_features)\n",
    "tokenizer.fit_on_texts(texts)\n",
    "sequences = tokenizer.texts_to_sequences(texts)\n",
    "\n",
    "# Pad sequences\n",
    "x_test = pad_sequences(sequences, maxlen=max_len)\n",
    "\n",
    "# Convert labels to numpy array\n",
    "import numpy as np\n",
    "y_test = np.array(labels)"
   ]
  },
  {
   "cell_type": "code",
   "execution_count": 23,
   "id": "1b9dc641",
   "metadata": {
    "execution": {
     "iopub.execute_input": "2024-05-08T19:43:20.797716Z",
     "iopub.status.busy": "2024-05-08T19:43:20.797246Z",
     "iopub.status.idle": "2024-05-08T19:43:21.269083Z",
     "shell.execute_reply": "2024-05-08T19:43:21.267904Z"
    },
    "papermill": {
     "duration": 0.707384,
     "end_time": "2024-05-08T19:43:21.271892",
     "exception": false,
     "start_time": "2024-05-08T19:43:20.564508",
     "status": "completed"
    },
    "tags": []
   },
   "outputs": [],
   "source": [
    "from tensorflow.keras.models import load_model\n",
    "\n",
    "# Load the model\n",
    "model = load_model('model.h5')"
   ]
  },
  {
   "cell_type": "code",
   "execution_count": 24,
   "id": "63096d33",
   "metadata": {
    "execution": {
     "iopub.execute_input": "2024-05-08T19:43:21.728482Z",
     "iopub.status.busy": "2024-05-08T19:43:21.727711Z",
     "iopub.status.idle": "2024-05-08T19:44:58.482750Z",
     "shell.execute_reply": "2024-05-08T19:44:58.481585Z"
    },
    "papermill": {
     "duration": 96.985911,
     "end_time": "2024-05-08T19:44:58.485086",
     "exception": false,
     "start_time": "2024-05-08T19:43:21.499175",
     "status": "completed"
    },
    "tags": []
   },
   "outputs": [
    {
     "name": "stdout",
     "output_type": "stream",
     "text": [
      "2255/2255 [==============================] - 97s 43ms/step - loss: 0.9870 - accuracy: 0.5990\n",
      "Test Loss: 0.9870331287384033, Test Accuracy: 0.599010169506073\n"
     ]
    }
   ],
   "source": [
    "from tensorflow.keras.utils import to_categorical\n",
    "\n",
    "# Convert labels to one-hot encoding\n",
    "y_test_one_hot = to_categorical(y_test, num_classes=2)\n",
    "\n",
    "loss, accuracy = model.evaluate(x_test, y_test_one_hot)\n",
    "print(f\"Test Loss: {loss}, Test Accuracy: {accuracy}\")"
   ]
  }
 ],
 "metadata": {
  "kaggle": {
   "accelerator": "none",
   "dataSources": [
    {
     "datasetId": 5504,
     "sourceId": 8240,
     "sourceType": "datasetVersion"
    },
    {
     "datasetId": 2093157,
     "sourceId": 6641062,
     "sourceType": "datasetVersion"
    },
    {
     "datasetId": 4831777,
     "sourceId": 8165591,
     "sourceType": "datasetVersion"
    }
   ],
   "dockerImageVersionId": 30698,
   "isGpuEnabled": false,
   "isInternetEnabled": true,
   "language": "python",
   "sourceType": "notebook"
  },
  "kernelspec": {
   "display_name": "Python 3",
   "language": "python",
   "name": "python3"
  },
  "language_info": {
   "codemirror_mode": {
    "name": "ipython",
    "version": 3
   },
   "file_extension": ".py",
   "mimetype": "text/x-python",
   "name": "python",
   "nbconvert_exporter": "python",
   "pygments_lexer": "ipython3",
   "version": "3.10.13"
  },
  "papermill": {
   "default_parameters": {},
   "duration": 2263.15571,
   "end_time": "2024-05-08T19:45:01.656564",
   "environment_variables": {},
   "exception": null,
   "input_path": "__notebook__.ipynb",
   "output_path": "__notebook__.ipynb",
   "parameters": {},
   "start_time": "2024-05-08T19:07:18.500854",
   "version": "2.5.0"
  }
 },
 "nbformat": 4,
 "nbformat_minor": 5
}
